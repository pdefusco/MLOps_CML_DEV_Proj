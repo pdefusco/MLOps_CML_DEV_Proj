{
 "cells": [
  {
   "cell_type": "code",
   "execution_count": 4,
   "id": "6017dbd1-19b7-4099-a0ca-3df802f1387a",
   "metadata": {
    "tags": []
   },
   "outputs": [],
   "source": [
    "#****************************************************************************\n",
    "# (C) Cloudera, Inc. 2020-2023\n",
    "#  All rights reserved.\n",
    "#\n",
    "#  Applicable Open Source License: GNU Affero General Public License v3.0\n",
    "#\n",
    "#  NOTE: Cloudera open source products are modular software products\n",
    "#  made up of hundreds of individual components, each of which was\n",
    "#  individually copyrighted.  Each Cloudera open source product is a\n",
    "#  collective work under U.S. Copyright Law. Your license to use the\n",
    "#  collective work is as provided in your written agreement with\n",
    "#  Cloudera.  Used apart from the collective work, this file is\n",
    "#  licensed for your use pursuant to the open source license\n",
    "#  identified above.\n",
    "#\n",
    "#  This code is provided to you pursuant a written agreement with\n",
    "#  (i) Cloudera, Inc. or (ii) a third-party authorized to distribute\n",
    "#  this code. If you do not have a written agreement with Cloudera nor\n",
    "#  with an authorized and properly licensed third party, you do not\n",
    "#  have any rights to access nor to use this code.\n",
    "#\n",
    "#  Absent a written agreement with Cloudera, Inc. (“Cloudera”) to the\n",
    "#  contrary, A) CLOUDERA PROVIDES THIS CODE TO YOU WITHOUT WARRANTIES OF ANY\n",
    "#  KIND; (B) CLOUDERA DISCLAIMS ANY AND ALL EXPRESS AND IMPLIED\n",
    "#  WARRANTIES WITH RESPECT TO THIS CODE, INCLUDING BUT NOT LIMITED TO\n",
    "#  IMPLIED WARRANTIES OF TITLE, NON-INFRINGEMENT, MERCHANTABILITY AND\n",
    "#  FITNESS FOR A PARTICULAR PURPOSE; (C) CLOUDERA IS NOT LIABLE TO YOU,\n",
    "#  AND WILL NOT DEFEND, INDEMNIFY, NOR HOLD YOU HARMLESS FOR ANY CLAIMS\n",
    "#  ARISING FROM OR RELATED TO THE CODE; AND (D)WITH RESPECT TO YOUR EXERCISE\n",
    "#  OF ANY RIGHTS GRANTED TO YOU FOR THE CODE, CLOUDERA IS NOT LIABLE FOR ANY\n",
    "#  DIRECT, INDIRECT, INCIDENTAL, SPECIAL, EXEMPLARY, PUNITIVE OR\n",
    "#  CONSEQUENTIAL DAMAGES INCLUDING, BUT NOT LIMITED TO, DAMAGES\n",
    "#  RELATED TO LOST REVENUE, LOST PROFITS, LOSS OF INCOME, LOSS OF\n",
    "#  BUSINESS ADVANTAGE OR UNAVAILABILITY, OR LOSS OR CORRUPTION OF\n",
    "#  DATA.\n",
    "#\n",
    "# #  Author(s): Paul de Fusco\n",
    "#***************************************************************************/"
   ]
  },
  {
   "cell_type": "code",
   "execution_count": 5,
   "id": "47b1bc44-d773-45fb-8954-a7c3515ee903",
   "metadata": {
    "tags": []
   },
   "outputs": [],
   "source": [
    "from __future__ import print_function\n",
    "import cmlapi\n",
    "from cmlapi.rest import ApiException\n",
    "from pprint import pprint\n",
    "import json, secrets, os, time\n",
    "import mlflow"
   ]
  },
  {
   "cell_type": "code",
   "execution_count": 6,
   "id": "74175b74-1c2b-49f2-a2df-9788d77b17e4",
   "metadata": {
    "tags": []
   },
   "outputs": [],
   "source": [
    "client = cmlapi.default_client()\n",
    "\n",
    "client.list_projects()\n",
    "\n",
    "projectId = os.environ['CDSW_PROJECT_ID']\n",
    "username = os.environ[\"PROJECT_OWNER\"]"
   ]
  },
  {
   "cell_type": "code",
   "execution_count": 7,
   "id": "bfed0eec-13ab-4fb5-ae51-5971556e5bb2",
   "metadata": {
    "tags": []
   },
   "outputs": [],
   "source": [
    "experimentName = \"MySparkMlClf\"\n",
    "experimentId = mlflow.get_experiment_by_name(experimentName).experiment_id\n",
    "runsDf = mlflow.search_runs(experimentId, run_view_type=1)"
   ]
  },
  {
   "cell_type": "code",
   "execution_count": 8,
   "id": "c03c106e-2d0d-4013-a849-cc6a2d5a7900",
   "metadata": {
    "tags": []
   },
   "outputs": [
    {
     "data": {
      "text/html": [
       "<div>\n",
       "<style scoped>\n",
       "    .dataframe tbody tr th:only-of-type {\n",
       "        vertical-align: middle;\n",
       "    }\n",
       "\n",
       "    .dataframe tbody tr th {\n",
       "        vertical-align: top;\n",
       "    }\n",
       "\n",
       "    .dataframe thead th {\n",
       "        text-align: right;\n",
       "    }\n",
       "</style>\n",
       "<table border=\"1\" class=\"dataframe\">\n",
       "  <thead>\n",
       "    <tr style=\"text-align: right;\">\n",
       "      <th></th>\n",
       "      <th>run_id</th>\n",
       "      <th>experiment_id</th>\n",
       "      <th>status</th>\n",
       "      <th>artifact_uri</th>\n",
       "      <th>start_time</th>\n",
       "      <th>end_time</th>\n",
       "      <th>tags.engineID</th>\n",
       "      <th>tags.mlflow.user</th>\n",
       "      <th>tags.mlflow.source.name</th>\n",
       "      <th>tags.mlflow.source.git.commit</th>\n",
       "      <th>tags.mlflow.source.type</th>\n",
       "    </tr>\n",
       "  </thead>\n",
       "  <tbody>\n",
       "    <tr>\n",
       "      <th>0</th>\n",
       "      <td>g7rb-zngd-ehr3-y5vv</td>\n",
       "      <td>3jc1-1jz2-hw0k-7a47</td>\n",
       "      <td>EXPERIMENT_RUN_RUNNING</td>\n",
       "      <td>/home/cdsw/.experiments/3jc1-1jz2-hw0k-7a47/g7...</td>\n",
       "      <td>2023-12-08 03:37:27.700753920+00:00</td>\n",
       "      <td>None</td>\n",
       "      <td>agpmcetj3l9lz1qq</td>\n",
       "      <td>pauldefusco</td>\n",
       "      <td>/usr/local/lib/python3.9/site-packages/ipykern...</td>\n",
       "      <td>4f90059097eb0230c8c6826b695873e841ddb0fb</td>\n",
       "      <td>LOCAL</td>\n",
       "    </tr>\n",
       "  </tbody>\n",
       "</table>\n",
       "</div>"
      ],
      "text/plain": [
       "                run_id        experiment_id                  status  \\\n",
       "0  g7rb-zngd-ehr3-y5vv  3jc1-1jz2-hw0k-7a47  EXPERIMENT_RUN_RUNNING   \n",
       "\n",
       "                                        artifact_uri  \\\n",
       "0  /home/cdsw/.experiments/3jc1-1jz2-hw0k-7a47/g7...   \n",
       "\n",
       "                           start_time end_time     tags.engineID  \\\n",
       "0 2023-12-08 03:37:27.700753920+00:00     None  agpmcetj3l9lz1qq   \n",
       "\n",
       "  tags.mlflow.user                            tags.mlflow.source.name  \\\n",
       "0      pauldefusco  /usr/local/lib/python3.9/site-packages/ipykern...   \n",
       "\n",
       "              tags.mlflow.source.git.commit tags.mlflow.source.type  \n",
       "0  4f90059097eb0230c8c6826b695873e841ddb0fb                   LOCAL  "
      ]
     },
     "execution_count": 8,
     "metadata": {},
     "output_type": "execute_result"
    }
   ],
   "source": [
    "runsDf"
   ]
  },
  {
   "cell_type": "code",
   "execution_count": 9,
   "id": "807e50e6-bd60-451c-b168-9f20a1c54436",
   "metadata": {
    "tags": []
   },
   "outputs": [],
   "source": [
    "experimentId = runsDf.iloc[-1]['experiment_id']\n",
    "experimentRunId = runsDf.iloc[-1]['run_id']"
   ]
  },
  {
   "cell_type": "code",
   "execution_count": 15,
   "id": "584ac5f5-fbe1-4a7f-8abc-d8227f310e1b",
   "metadata": {
    "tags": []
   },
   "outputs": [],
   "source": [
    "def registerModelFromExperimentRun(modelName, experimentId, experimentRunId, modelPath, sessionId):\n",
    "    \"\"\"\n",
    "    Method to register a model from an Experiment Run\n",
    "    This is an alternative to the mlflow method to register a model via the register_model parameter in the log_model method\n",
    "    Input: requires an experiment run\n",
    "    Output: \n",
    "    \"\"\"\n",
    "\n",
    "    model_name = 'wine_model_' + username + \"-\" + sessionId\n",
    "\n",
    "    CreateRegisteredModelRequest = {\n",
    "                                    \"project_id\": os.environ['CDSW_PROJECT_ID'], \n",
    "                                    \"experiment_id\" : experimentId,\n",
    "                                    \"run_id\": experimentRunId, \n",
    "                                    \"model_name\": modelName, \n",
    "                                    \"model_path\": modelPath\n",
    "                                   }\n",
    "\n",
    "    try:\n",
    "        # Register a model.\n",
    "        api_response = client.create_registered_model(CreateRegisteredModelRequest)\n",
    "        pprint(api_response)\n",
    "    except ApiException as e:\n",
    "        print(\"Exception when calling CMLServiceApi->create_registered_model: %s\\n\" % e)\n",
    "        \n",
    "    return api_response"
   ]
  },
  {
   "cell_type": "code",
   "execution_count": 16,
   "id": "0acd5312-554d-4802-af56-a6b6238b68e4",
   "metadata": {
    "tags": []
   },
   "outputs": [
    {
     "name": "stdout",
     "output_type": "stream",
     "text": [
      "{'count': 0,\n",
      " 'created_at': datetime.datetime(2023, 12, 8, 3, 38, 23, 943000, tzinfo=tzlocal()),\n",
      " 'description': '',\n",
      " 'model_id': '6njo-h6l6-cb3n-knum',\n",
      " 'model_versions': [{'created_at': datetime.datetime(2023, 12, 8, 3, 38, 23, 944000, tzinfo=tzlocal()),\n",
      "                     'model_id': '',\n",
      "                     'model_version_id': 'm86h-rjd8-wnz0-w5m2',\n",
      "                     'model_version_metadata': {'mlflow_metadata': {'experiment_id': '3jc1-1jz2-hw0k-7a47',\n",
      "                                                                    'metrics': [],\n",
      "                                                                    'params': [],\n",
      "                                                                    'run_id': 'g7rb-zngd-ehr3-y5vv',\n",
      "                                                                    'tags': [{'key': 'mlflow.user',\n",
      "                                                                              'value': 'pauldefusco'},\n",
      "                                                                             {'key': 'mlflow.source.name',\n",
      "                                                                              'value': '/usr/local/lib/python3.9/site-packages/ipykernel_launcher.py'},\n",
      "                                                                             {'key': 'mlflow.source.type',\n",
      "                                                                              'value': 'LOCAL'},\n",
      "                                                                             {'key': 'mlflow.source.git.commit',\n",
      "                                                                              'value': '4f90059097eb0230c8c6826b695873e841ddb0fb'},\n",
      "                                                                             {'key': 'engineID',\n",
      "                                                                              'value': 'agpmcetj3l9lz1qq'}]},\n",
      "                                                'mlops_type': 'MLFLOW',\n",
      "                                                'owner': None,\n",
      "                                                'project_id': 'mlops_dev_prj',\n",
      "                                                'simple_metadata': None,\n",
      "                                                'tags': [],\n",
      "                                                'workspace_url': 'ml-b74f8940-b97.go01-dem.ylcu-atmi.cloudera.site'},\n",
      "                     'notes': '',\n",
      "                     'number': 1,\n",
      "                     'status': 'READY',\n",
      "                     'tags': [],\n",
      "                     'updated_at': None,\n",
      "                     'user': {'email': '',\n",
      "                              'name': 'pauldefusco',\n",
      "                              'username': 'pauldefusco'},\n",
      "                     'version_name': ''}],\n",
      " 'name': 'SparkClf-pauldefusco-2db29457',\n",
      " 'next_page_token': '',\n",
      " 'owner': {'email': '', 'name': 'pauldefusco', 'username': 'pauldefusco'},\n",
      " 'permission': '',\n",
      " 'updated_at': None,\n",
      " 'visibility': 'PRIVATE'}\n"
     ]
    }
   ],
   "source": [
    "sessionId = secrets.token_hex(nbytes=4)\n",
    "modelPath = \"best-model\"\n",
    "modelName = \"SparkClf-\" + username + \"-\" + sessionId\n",
    "\n",
    "registeredModelResponse = registerModelFromExperimentRun(modelName, experimentId, experimentRunId, modelPath, sessionId)"
   ]
  },
  {
   "cell_type": "markdown",
   "id": "59556809-483e-4ee4-9318-b1adb7837d3d",
   "metadata": {},
   "source": [
    "### Create a PRD Proj for Production"
   ]
  },
  {
   "cell_type": "code",
   "execution_count": 17,
   "id": "3247473d-d126-4a3a-b238-005bc73a35b7",
   "metadata": {
    "tags": []
   },
   "outputs": [],
   "source": [
    "def createPRDProject():\n",
    "    \"\"\"\n",
    "    Method to create a PRD Project\n",
    "    \"\"\"\n",
    "\n",
    "    createProjRequest = {\"name\": \"mlops_prd_prj\", \"template\":\"git\", \"git_url\":\"https://github.com/pdefusco/MLOps_CML_PRD_Proj.git\"}\n",
    "\n",
    "    try:\n",
    "        # Create a new project\n",
    "        api_response = client.create_project(createProjRequest)\n",
    "        pprint(api_response)\n",
    "    except ApiException as e:\n",
    "        print(\"Exception when calling CMLServiceApi->create_project: %s\\n\" % e)\n",
    "    \n",
    "    return api_response"
   ]
  },
  {
   "cell_type": "code",
   "execution_count": 18,
   "id": "011bf752-f73a-4e26-91d1-6b6687648e3c",
   "metadata": {
    "tags": []
   },
   "outputs": [
    {
     "name": "stdout",
     "output_type": "stream",
     "text": [
      "{'created_at': datetime.datetime(2023, 12, 8, 3, 38, 29, 397361, tzinfo=tzlocal()),\n",
      " 'creation_status': 'unknown',\n",
      " 'creator': {'email': 'pauldefusco@cloudera.com',\n",
      "             'name': 'Paul de Fusco',\n",
      "             'username': 'pauldefusco'},\n",
      " 'default_engine_type': 'ml_runtime',\n",
      " 'description': '',\n",
      " 'environment': '{\"PROJECT_OWNER\":\"pauldefusco\"}',\n",
      " 'ephemeral_storage_limit': 10,\n",
      " 'ephemeral_storage_request': 0,\n",
      " 'id': 'b99s-6j26-aclu-nqjb',\n",
      " 'name': 'mlops_prd_prj',\n",
      " 'owner': {'email': 'pauldefusco@cloudera.com',\n",
      "           'name': 'Paul de Fusco',\n",
      "           'username': 'pauldefusco'},\n",
      " 'permissions': {'admin': True,\n",
      "                 'business_user': True,\n",
      "                 'inherit': False,\n",
      "                 'operator': True,\n",
      "                 'read': True,\n",
      "                 'write': True},\n",
      " 'shared_memory_limit': 0,\n",
      " 'updated_at': datetime.datetime(2023, 12, 8, 3, 38, 29, 397361, tzinfo=tzlocal()),\n",
      " 'visibility': 'private'}\n"
     ]
    }
   ],
   "source": [
    "projectCreationResponse = createPRDProject()"
   ]
  },
  {
   "cell_type": "code",
   "execution_count": 19,
   "id": "5225a413-b178-4900-99cf-3e0cbdde1234",
   "metadata": {
    "tags": []
   },
   "outputs": [],
   "source": [
    "def validatePRDProject(username):\n",
    "    \"\"\"\n",
    "    Method to test successful project creation\n",
    "    \"\"\"\n",
    "    \n",
    "    try:\n",
    "        # Return all projects, optionally filtered, sorted, and paginated.\n",
    "        search_filter = {\"owner.username\" : username}\n",
    "        search = json.dumps(search_filter)\n",
    "        api_response = client.list_projects(search_filter=search)\n",
    "        #pprint(api_response)\n",
    "    except ApiException as e:\n",
    "        print(\"Exception when calling CMLServiceApi->list_projects: %s\\n\" % e)\n",
    "        \n",
    "    return api_response"
   ]
  },
  {
   "cell_type": "code",
   "execution_count": 20,
   "id": "26275345-d2ab-4afd-8f67-ce9511a7a8a8",
   "metadata": {
    "tags": []
   },
   "outputs": [],
   "source": [
    "apiResp = validatePRDProject(os.environ[\"PROJECT_OWNER\"])\n",
    "#apiResp.projects"
   ]
  },
  {
   "cell_type": "markdown",
   "id": "9e08a26c-ddd5-4c09-bcf8-06e2cfa5d8d6",
   "metadata": {},
   "source": [
    "### Deploy Model in PRD Project"
   ]
  },
  {
   "cell_type": "code",
   "execution_count": 21,
   "id": "a693363b-c651-4378-842d-3984a7c014fe",
   "metadata": {
    "tags": []
   },
   "outputs": [],
   "source": [
    "prdProjId = projectCreationResponse.id\n",
    "modelId = registeredModelResponse.model_id\n",
    "modelVersionId = registeredModelResponse.model_versions[0].model_version_id\n",
    "modelName = \"SparkClf-\" + username + \"-\" + sessionId"
   ]
  },
  {
   "cell_type": "code",
   "execution_count": 22,
   "id": "48a9a263-2f50-4e3f-a29e-1d6f2b949219",
   "metadata": {
    "tags": []
   },
   "outputs": [
    {
     "data": {
      "text/plain": [
       "'m86h-rjd8-wnz0-w5m2'"
      ]
     },
     "execution_count": 22,
     "metadata": {},
     "output_type": "execute_result"
    }
   ],
   "source": [
    "registeredModelResponse.model_versions[0].model_version_id"
   ]
  },
  {
   "cell_type": "code",
   "execution_count": 23,
   "id": "69724cc6-f562-4489-93ec-56266919271c",
   "metadata": {
    "tags": []
   },
   "outputs": [],
   "source": [
    "def createModel(projectId, modelName, modelId, description = \"My Spark Clf\"):\n",
    "    \"\"\"\n",
    "    Method to create a model \n",
    "    \"\"\"\n",
    "\n",
    "    CreateModelRequest = {\n",
    "                            \"project_id\": projectId, \n",
    "                            \"name\" : modelName,\n",
    "                            \"description\": description, \n",
    "                            \"registered_model_id\": modelId\n",
    "                         }\n",
    "\n",
    "    try:\n",
    "        # Create a model.\n",
    "        api_response = client.create_model(CreateModelRequest, projectId)\n",
    "        pprint(api_response)\n",
    "    except ApiException as e:\n",
    "        print(\"Exception when calling CMLServiceApi->create_model: %s\\n\" % e)\n",
    "        \n",
    "    return api_response"
   ]
  },
  {
   "cell_type": "code",
   "execution_count": 24,
   "id": "9434ffc0-a691-4841-af98-ac5deb9911a9",
   "metadata": {
    "tags": []
   },
   "outputs": [
    {
     "name": "stdout",
     "output_type": "stream",
     "text": [
      "{'access_key': 'm7fwq1xhfv244jzst5j1dzyt3xl0mdpu',\n",
      " 'auth_enabled': True,\n",
      " 'created_at': datetime.datetime(2023, 12, 8, 3, 38, 34, 251351, tzinfo=tzlocal()),\n",
      " 'creator': {'email': 'pauldefusco@cloudera.com',\n",
      "             'name': 'Paul de Fusco',\n",
      "             'username': 'pauldefusco'},\n",
      " 'crn': 'crn:cdp:ml:us-west-1:8a1e15cd-04c2-48aa-8f35-b4a8c11997d3:workspace:af51f669-db4f-490b-837e-080f355e436e/85a528e0-8d10-4aec-a86d-5934a76a3d54',\n",
      " 'default_replication_policy': {'num_replicas': '0', 'type': ''},\n",
      " 'default_resources': {'cpu_millicores': '0',\n",
      "                       'memory_mb': '0',\n",
      "                       'nvidia_gpus': '0'},\n",
      " 'deletion_status': '',\n",
      " 'description': 'My Spark Clf',\n",
      " 'id': '85a528e0-8d10-4aec-a86d-5934a76a3d54',\n",
      " 'name': 'SparkClf-pauldefusco-2db29457',\n",
      " 'project': {'default_project_engine': '',\n",
      "             'name': '',\n",
      "             'public_identifier': '',\n",
      "             'slug': ''},\n",
      " 'registered_model_id': '6njo-h6l6-cb3n-knum',\n",
      " 'run_as': 0,\n",
      " 'updated_at': datetime.datetime(2023, 12, 8, 3, 38, 34, 251351, tzinfo=tzlocal()),\n",
      " 'visibility': 'private'}\n"
     ]
    }
   ],
   "source": [
    "createModelResponse = createModel(prdProjId, modelName, modelId)"
   ]
  },
  {
   "cell_type": "code",
   "execution_count": 25,
   "id": "f6224a26-2144-479a-b3c1-e695826843e8",
   "metadata": {
    "tags": []
   },
   "outputs": [],
   "source": [
    "def createModelBuild(projectId, modelVersionId, modelCreationId):\n",
    "    \"\"\"\n",
    "    Method to create a Model build\n",
    "    \"\"\"\n",
    "    \n",
    "    # Create Model Build\n",
    "    CreateModelBuildRequest = {\n",
    "                                \"registered_model_version_id\": modelVersionId, \n",
    "                                \"runtime_identifier\": \"docker.repository.cloudera.com/cloudera/cdsw/ml-runtime-workbench-python3.9-standard:2023.08.2-b8\",\n",
    "                                \"comment\": \"invoking model build\",\n",
    "                                \"model_id\": modelCreationId\n",
    "                              }\n",
    "\n",
    "    try:\n",
    "        # Create a model build.\n",
    "        api_response = client.create_model_build(CreateModelBuildRequest, projectId, modelCreationId)\n",
    "        pprint(api_response)\n",
    "    except ApiException as e:\n",
    "        print(\"Exception when calling CMLServiceApi->create_model_build: %s\\n\" % e)\n",
    "\n",
    "    return api_response"
   ]
  },
  {
   "cell_type": "code",
   "execution_count": 26,
   "id": "540f6d71-183f-4dc9-945b-f702f5274721",
   "metadata": {
    "tags": []
   },
   "outputs": [],
   "source": [
    "modelCreationId = createModelResponse.id"
   ]
  },
  {
   "cell_type": "code",
   "execution_count": 27,
   "id": "c902e669-8bb7-48e1-bf49-0cbd9cdd7343",
   "metadata": {
    "tags": []
   },
   "outputs": [
    {
     "name": "stdout",
     "output_type": "stream",
     "text": [
      "{'built_at': datetime.datetime(1, 1, 1, 0, 0, tzinfo=tzlocal()),\n",
      " 'comment': 'invoking model build',\n",
      " 'created_at': datetime.datetime(2023, 12, 8, 3, 38, 36, 963473, tzinfo=tzlocal()),\n",
      " 'creator': {'email': 'pauldefusco@cloudera.com',\n",
      "             'name': 'Paul de Fusco',\n",
      "             'username': 'pauldefusco'},\n",
      " 'crn': 'crn:cdp:ml:us-west-1:8a1e15cd-04c2-48aa-8f35-b4a8c11997d3:workspace:af51f669-db4f-490b-837e-080f355e436e/f8f5a151-1187-4209-a059-c223ea5ee446',\n",
      " 'deletion_status': '',\n",
      " 'engine_image': '',\n",
      " 'file_path': 'predict.py',\n",
      " 'function_name': 'predict',\n",
      " 'id': 'f8f5a151-1187-4209-a059-c223ea5ee446',\n",
      " 'kernel': 'Python 3.9',\n",
      " 'model_id': '85a528e0-8d10-4aec-a86d-5934a76a3d54',\n",
      " 'registered_model_version_id': 'm86h-rjd8-wnz0-w5m2',\n",
      " 'runtime_addon_identifiers': ['hadoop-cli-7.2.16-hf3'],\n",
      " 'runtime_identifier': 'docker.repository.cloudera.com/cloudera/cdsw/ml-runtime-workbench-python3.9-standard:2023.08.2-b8',\n",
      " 'status': 'pending',\n",
      " 'updated_at': datetime.datetime(2023, 12, 8, 3, 38, 37, 996543, tzinfo=tzlocal())}\n"
     ]
    }
   ],
   "source": [
    "createModelBuildResponse = createModelBuild(prdProjId, modelVersionId, modelCreationId)"
   ]
  },
  {
   "cell_type": "code",
   "execution_count": 28,
   "id": "1c7765f0-cb38-415a-9d6e-d97dbed9a6b5",
   "metadata": {
    "tags": []
   },
   "outputs": [],
   "source": [
    "def createModelDeployment(modelBuildId, projectId, modelCreationId):\n",
    "    \"\"\"\n",
    "    Method to deploy a model build\n",
    "    \"\"\"\n",
    "    \n",
    "    CreateModelDeploymentRequest = {\n",
    "      \"cpu\" : \"2\",\n",
    "      \"memory\" : \"4\"\n",
    "    }\n",
    "\n",
    "    try:\n",
    "        # Create a model deployment.\n",
    "        api_response = client.create_model_deployment(CreateModelDeploymentRequest, projectId, modelCreationId, modelBuildId)\n",
    "        pprint(api_response)\n",
    "    except ApiException as e:\n",
    "        print(\"Exception when calling CMLServiceApi->create_model_deployment: %s\\n\" % e)\n",
    "\n",
    "    return api_response\n",
    "        \n",
    "    #REMEMBER TO MAKE SURE ALL NUMBERS ARE FLOATS\n",
    "    #model_request = {\"dataframe_split\": {\"columns\":[\"fixed acidity\", \"volatile acidity\", \"citric acid\", \n",
    "    #\"residual sugar\", \"chlorides\", \"free sulfur dioxide\", \"total sulfur dioxide\", \"density\", \"pH\", \n",
    "    #\"sulphates\", \"alcohol\"],\"data\":[[6.2, 0.66, 0.48, 1.2, 0.029, 29.1, 75.1, 0.98, 3.33, 0.39, 12.8]]}}"
   ]
  },
  {
   "cell_type": "code",
   "execution_count": 29,
   "id": "443ab417-2187-46f6-881b-71c3efd76309",
   "metadata": {
    "tags": []
   },
   "outputs": [],
   "source": [
    "modelBuildId = createModelBuildResponse.id"
   ]
  },
  {
   "cell_type": "code",
   "execution_count": 30,
   "id": "28bafa18-9593-4038-b587-c6da0770abc9",
   "metadata": {
    "tags": []
   },
   "outputs": [
    {
     "name": "stdout",
     "output_type": "stream",
     "text": [
      "{'build_id': 'f8f5a151-1187-4209-a059-c223ea5ee446',\n",
      " 'cpu': 2.0,\n",
      " 'created_at': datetime.datetime(2023, 12, 8, 3, 38, 38, 202734, tzinfo=tzlocal()),\n",
      " 'crn': 'crn:cdp:ml:us-west-1:8a1e15cd-04c2-48aa-8f35-b4a8c11997d3:workspace:af51f669-db4f-490b-837e-080f355e436e/843dee45-9b3b-4951-a37b-1b2aa56171af',\n",
      " 'deployer': {'email': 'pauldefusco@cloudera.com',\n",
      "              'name': 'Paul de Fusco',\n",
      "              'username': 'pauldefusco'},\n",
      " 'environment': '{}',\n",
      " 'id': '843dee45-9b3b-4951-a37b-1b2aa56171af',\n",
      " 'memory': 4.0,\n",
      " 'model_id': '85a528e0-8d10-4aec-a86d-5934a76a3d54',\n",
      " 'nvidia_gpu': 0,\n",
      " 'project_id': 'b99s-6j26-aclu-nqjb',\n",
      " 'replicas': 1,\n",
      " 'status': 'pending',\n",
      " 'stopped_at': datetime.datetime(1, 1, 1, 0, 0, tzinfo=tzlocal()),\n",
      " 'updated_at': datetime.datetime(2023, 12, 8, 3, 38, 38, 207142, tzinfo=tzlocal())}\n"
     ]
    },
    {
     "data": {
      "text/plain": [
       "{'build_id': 'f8f5a151-1187-4209-a059-c223ea5ee446',\n",
       " 'cpu': 2.0,\n",
       " 'created_at': datetime.datetime(2023, 12, 8, 3, 38, 38, 202734, tzinfo=tzlocal()),\n",
       " 'crn': 'crn:cdp:ml:us-west-1:8a1e15cd-04c2-48aa-8f35-b4a8c11997d3:workspace:af51f669-db4f-490b-837e-080f355e436e/843dee45-9b3b-4951-a37b-1b2aa56171af',\n",
       " 'deployer': {'email': 'pauldefusco@cloudera.com',\n",
       "              'name': 'Paul de Fusco',\n",
       "              'username': 'pauldefusco'},\n",
       " 'environment': '{}',\n",
       " 'id': '843dee45-9b3b-4951-a37b-1b2aa56171af',\n",
       " 'memory': 4.0,\n",
       " 'model_id': '85a528e0-8d10-4aec-a86d-5934a76a3d54',\n",
       " 'nvidia_gpu': 0,\n",
       " 'project_id': 'b99s-6j26-aclu-nqjb',\n",
       " 'replicas': 1,\n",
       " 'status': 'pending',\n",
       " 'stopped_at': datetime.datetime(1, 1, 1, 0, 0, tzinfo=tzlocal()),\n",
       " 'updated_at': datetime.datetime(2023, 12, 8, 3, 38, 38, 207142, tzinfo=tzlocal())}"
      ]
     },
     "execution_count": 30,
     "metadata": {},
     "output_type": "execute_result"
    }
   ],
   "source": [
    "createModelDeployment(modelBuildId, prdProjId, modelCreationId)"
   ]
  },
  {
   "cell_type": "markdown",
   "id": "3f9238c9-ee1c-432b-8db6-056d3bcc86fd",
   "metadata": {
    "tags": []
   },
   "source": [
    "### Now try a request with the following payload!"
   ]
  },
  {
   "cell_type": "code",
   "execution_count": 160,
   "id": "c67fc8d1-400e-4aaa-a461-2be30e285630",
   "metadata": {
    "tags": []
   },
   "outputs": [],
   "source": [
    "model_request = {\"dataframe_split\": {\"columns\": [\"age\", \"credit_card_balance\", \"bank_account_balance\", \"mortgage_balance\", \"primary_loan_balance\", \"sec_bank_account_balance\", \"savings_account_balance\", \"sec_savings_account_balance\", \"secondary_loan_balance\", \"total_est_nworth\", \"college_loan_balance\", \"transaction_amount\", \"latitude\", \"longitude\"],\n",
    "                                     \"data\":[[11.5, 20000.5, 3900.5, 14000.5, 2944.5, 3400.5, 12000.5, 29000.5, 1300.5, 15000.5, 10000.5, 2000.5, 90.5, 120.5]]}}"
   ]
  },
  {
   "cell_type": "code",
   "execution_count": null,
   "id": "1a82ce89-8081-4314-b1bc-1a4128c36453",
   "metadata": {},
   "outputs": [],
   "source": []
  },
  {
   "cell_type": "code",
   "execution_count": null,
   "id": "9797d6e4-e499-4e9b-bd6a-4bf4e374029c",
   "metadata": {},
   "outputs": [],
   "source": [
    "# register model here"
   ]
  }
 ],
 "metadata": {
  "kernelspec": {
   "display_name": "Python 3 (ipykernel)",
   "language": "python",
   "name": "python3"
  },
  "language_info": {
   "codemirror_mode": {
    "name": "ipython",
    "version": 3
   },
   "file_extension": ".py",
   "mimetype": "text/x-python",
   "name": "python",
   "nbconvert_exporter": "python",
   "pygments_lexer": "ipython3",
   "version": "3.9.16"
  }
 },
 "nbformat": 4,
 "nbformat_minor": 5
}
