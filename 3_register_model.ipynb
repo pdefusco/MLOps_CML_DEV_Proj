{
 "cells": [
  {
   "cell_type": "code",
   "execution_count": 1,
   "id": "6017dbd1-19b7-4099-a0ca-3df802f1387a",
   "metadata": {
    "tags": []
   },
   "outputs": [],
   "source": [
    "#****************************************************************************\n",
    "# (C) Cloudera, Inc. 2020-2023\n",
    "#  All rights reserved.\n",
    "#\n",
    "#  Applicable Open Source License: GNU Affero General Public License v3.0\n",
    "#\n",
    "#  NOTE: Cloudera open source products are modular software products\n",
    "#  made up of hundreds of individual components, each of which was\n",
    "#  individually copyrighted.  Each Cloudera open source product is a\n",
    "#  collective work under U.S. Copyright Law. Your license to use the\n",
    "#  collective work is as provided in your written agreement with\n",
    "#  Cloudera.  Used apart from the collective work, this file is\n",
    "#  licensed for your use pursuant to the open source license\n",
    "#  identified above.\n",
    "#\n",
    "#  This code is provided to you pursuant a written agreement with\n",
    "#  (i) Cloudera, Inc. or (ii) a third-party authorized to distribute\n",
    "#  this code. If you do not have a written agreement with Cloudera nor\n",
    "#  with an authorized and properly licensed third party, you do not\n",
    "#  have any rights to access nor to use this code.\n",
    "#\n",
    "#  Absent a written agreement with Cloudera, Inc. (“Cloudera”) to the\n",
    "#  contrary, A) CLOUDERA PROVIDES THIS CODE TO YOU WITHOUT WARRANTIES OF ANY\n",
    "#  KIND; (B) CLOUDERA DISCLAIMS ANY AND ALL EXPRESS AND IMPLIED\n",
    "#  WARRANTIES WITH RESPECT TO THIS CODE, INCLUDING BUT NOT LIMITED TO\n",
    "#  IMPLIED WARRANTIES OF TITLE, NON-INFRINGEMENT, MERCHANTABILITY AND\n",
    "#  FITNESS FOR A PARTICULAR PURPOSE; (C) CLOUDERA IS NOT LIABLE TO YOU,\n",
    "#  AND WILL NOT DEFEND, INDEMNIFY, NOR HOLD YOU HARMLESS FOR ANY CLAIMS\n",
    "#  ARISING FROM OR RELATED TO THE CODE; AND (D)WITH RESPECT TO YOUR EXERCISE\n",
    "#  OF ANY RIGHTS GRANTED TO YOU FOR THE CODE, CLOUDERA IS NOT LIABLE FOR ANY\n",
    "#  DIRECT, INDIRECT, INCIDENTAL, SPECIAL, EXEMPLARY, PUNITIVE OR\n",
    "#  CONSEQUENTIAL DAMAGES INCLUDING, BUT NOT LIMITED TO, DAMAGES\n",
    "#  RELATED TO LOST REVENUE, LOST PROFITS, LOSS OF INCOME, LOSS OF\n",
    "#  BUSINESS ADVANTAGE OR UNAVAILABILITY, OR LOSS OR CORRUPTION OF\n",
    "#  DATA.\n",
    "#\n",
    "# #  Author(s): Paul de Fusco\n",
    "#***************************************************************************/"
   ]
  },
  {
   "cell_type": "code",
   "execution_count": 7,
   "id": "47b1bc44-d773-45fb-8954-a7c3515ee903",
   "metadata": {
    "tags": []
   },
   "outputs": [],
   "source": [
    "from __future__ import print_function\n",
    "import cmlapi\n",
    "from cmlapi.rest import ApiException\n",
    "from pprint import pprint\n",
    "import json, secrets, os, time\n",
    "import mlflow"
   ]
  },
  {
   "cell_type": "code",
   "execution_count": 83,
   "id": "74175b74-1c2b-49f2-a2df-9788d77b17e4",
   "metadata": {
    "tags": []
   },
   "outputs": [],
   "source": [
    "client = cmlapi.default_client()\n",
    "\n",
    "client.list_projects()\n",
    "\n",
    "projectId = os.environ['CDSW_PROJECT_ID']\n",
    "username = os.environ[\"PROJECT_OWNER\"]"
   ]
  },
  {
   "cell_type": "code",
   "execution_count": 84,
   "id": "bfed0eec-13ab-4fb5-ae51-5971556e5bb2",
   "metadata": {
    "tags": []
   },
   "outputs": [],
   "source": [
    "experimentName = \"MySparkMlClf\"\n",
    "experimentId = mlflow.get_experiment_by_name(experimentName).experiment_id\n",
    "runsDf = mlflow.search_runs(experiment_id, run_view_type=1)"
   ]
  },
  {
   "cell_type": "code",
   "execution_count": 150,
   "id": "c03c106e-2d0d-4013-a849-cc6a2d5a7900",
   "metadata": {
    "tags": []
   },
   "outputs": [
    {
     "data": {
      "text/html": [
       "<div>\n",
       "<style scoped>\n",
       "    .dataframe tbody tr th:only-of-type {\n",
       "        vertical-align: middle;\n",
       "    }\n",
       "\n",
       "    .dataframe tbody tr th {\n",
       "        vertical-align: top;\n",
       "    }\n",
       "\n",
       "    .dataframe thead th {\n",
       "        text-align: right;\n",
       "    }\n",
       "</style>\n",
       "<table border=\"1\" class=\"dataframe\">\n",
       "  <thead>\n",
       "    <tr style=\"text-align: right;\">\n",
       "      <th></th>\n",
       "      <th>run_id</th>\n",
       "      <th>experiment_id</th>\n",
       "      <th>status</th>\n",
       "      <th>artifact_uri</th>\n",
       "      <th>start_time</th>\n",
       "      <th>end_time</th>\n",
       "      <th>metrics.test_accuracy</th>\n",
       "      <th>tags.mlflow.source.type</th>\n",
       "      <th>tags.mlflow.user</th>\n",
       "      <th>tags.engineID</th>\n",
       "      <th>...</th>\n",
       "      <th>tags.mlflow.source.git.commit</th>\n",
       "      <th>tags.mlflow.source.name</th>\n",
       "      <th>tags.train_iceberg_snapshot_id</th>\n",
       "      <th>tags.test_iceberg_snapshot_id</th>\n",
       "      <th>tags.train_iceberg_snapshot_committed_at</th>\n",
       "      <th>tags.train_iceberg_parent_id</th>\n",
       "      <th>tags.test_iceberg_snapshot_committed_at</th>\n",
       "      <th>tags.test_row_count</th>\n",
       "      <th>tags.test_iceberg_parent_id</th>\n",
       "      <th>tags.train_row_count</th>\n",
       "    </tr>\n",
       "  </thead>\n",
       "  <tbody>\n",
       "    <tr>\n",
       "      <th>0</th>\n",
       "      <td>nf1q-dwob-qur7-ied4</td>\n",
       "      <td>hrfa-bxuh-jgym-ilnt</td>\n",
       "      <td>EXPERIMENT_RUN_FINISHED</td>\n",
       "      <td>/home/cdsw/.experiments/hrfa-bxuh-jgym-ilnt/nf...</td>\n",
       "      <td>2023-12-07 01:29:19.603489024+00:00</td>\n",
       "      <td>2023-12-07 01:31:28.275000064+00:00</td>\n",
       "      <td>0.906814</td>\n",
       "      <td>LOCAL</td>\n",
       "      <td>pauldefusco</td>\n",
       "      <td>trfv30j0nr2dlyrh</td>\n",
       "      <td>...</td>\n",
       "      <td>b0ed9abb9bafa4391ebeb454d4ea83491c037b39</td>\n",
       "      <td>/usr/local/lib/python3.9/site-packages/ipykern...</td>\n",
       "      <td>None</td>\n",
       "      <td>None</td>\n",
       "      <td>None</td>\n",
       "      <td>None</td>\n",
       "      <td>None</td>\n",
       "      <td>None</td>\n",
       "      <td>None</td>\n",
       "      <td>None</td>\n",
       "    </tr>\n",
       "    <tr>\n",
       "      <th>1</th>\n",
       "      <td>ccb3-d7vs-1k0b-61lr</td>\n",
       "      <td>hrfa-bxuh-jgym-ilnt</td>\n",
       "      <td>EXPERIMENT_RUN_FINISHED</td>\n",
       "      <td>/home/cdsw/.experiments/hrfa-bxuh-jgym-ilnt/cc...</td>\n",
       "      <td>2023-12-07 01:33:14.255232256+00:00</td>\n",
       "      <td>2023-12-07 01:35:16.200000+00:00</td>\n",
       "      <td>0.906814</td>\n",
       "      <td>LOCAL</td>\n",
       "      <td>pauldefusco</td>\n",
       "      <td>trfv30j0nr2dlyrh</td>\n",
       "      <td>...</td>\n",
       "      <td>b0ed9abb9bafa4391ebeb454d4ea83491c037b39</td>\n",
       "      <td>/usr/local/lib/python3.9/site-packages/ipykern...</td>\n",
       "      <td>2023-12-07 01:33:16.294000</td>\n",
       "      <td>2023-12-07 01:33:25.497000</td>\n",
       "      <td>12/07/2023</td>\n",
       "      <td>None</td>\n",
       "      <td>12/07/2023</td>\n",
       "      <td>1996</td>\n",
       "      <td>None</td>\n",
       "      <td>8004</td>\n",
       "    </tr>\n",
       "  </tbody>\n",
       "</table>\n",
       "<p>2 rows × 21 columns</p>\n",
       "</div>"
      ],
      "text/plain": [
       "                run_id        experiment_id                   status  \\\n",
       "0  nf1q-dwob-qur7-ied4  hrfa-bxuh-jgym-ilnt  EXPERIMENT_RUN_FINISHED   \n",
       "1  ccb3-d7vs-1k0b-61lr  hrfa-bxuh-jgym-ilnt  EXPERIMENT_RUN_FINISHED   \n",
       "\n",
       "                                        artifact_uri  \\\n",
       "0  /home/cdsw/.experiments/hrfa-bxuh-jgym-ilnt/nf...   \n",
       "1  /home/cdsw/.experiments/hrfa-bxuh-jgym-ilnt/cc...   \n",
       "\n",
       "                           start_time                            end_time  \\\n",
       "0 2023-12-07 01:29:19.603489024+00:00 2023-12-07 01:31:28.275000064+00:00   \n",
       "1 2023-12-07 01:33:14.255232256+00:00    2023-12-07 01:35:16.200000+00:00   \n",
       "\n",
       "   metrics.test_accuracy tags.mlflow.source.type tags.mlflow.user  \\\n",
       "0               0.906814                   LOCAL      pauldefusco   \n",
       "1               0.906814                   LOCAL      pauldefusco   \n",
       "\n",
       "      tags.engineID  ...             tags.mlflow.source.git.commit  \\\n",
       "0  trfv30j0nr2dlyrh  ...  b0ed9abb9bafa4391ebeb454d4ea83491c037b39   \n",
       "1  trfv30j0nr2dlyrh  ...  b0ed9abb9bafa4391ebeb454d4ea83491c037b39   \n",
       "\n",
       "                             tags.mlflow.source.name  \\\n",
       "0  /usr/local/lib/python3.9/site-packages/ipykern...   \n",
       "1  /usr/local/lib/python3.9/site-packages/ipykern...   \n",
       "\n",
       "  tags.train_iceberg_snapshot_id tags.test_iceberg_snapshot_id  \\\n",
       "0                           None                          None   \n",
       "1     2023-12-07 01:33:16.294000    2023-12-07 01:33:25.497000   \n",
       "\n",
       "  tags.train_iceberg_snapshot_committed_at tags.train_iceberg_parent_id  \\\n",
       "0                                     None                         None   \n",
       "1                               12/07/2023                         None   \n",
       "\n",
       "  tags.test_iceberg_snapshot_committed_at tags.test_row_count  \\\n",
       "0                                    None                None   \n",
       "1                              12/07/2023                1996   \n",
       "\n",
       "  tags.test_iceberg_parent_id tags.train_row_count  \n",
       "0                        None                 None  \n",
       "1                        None                 8004  \n",
       "\n",
       "[2 rows x 21 columns]"
      ]
     },
     "execution_count": 150,
     "metadata": {},
     "output_type": "execute_result"
    }
   ],
   "source": [
    "runsDf"
   ]
  },
  {
   "cell_type": "code",
   "execution_count": 85,
   "id": "807e50e6-bd60-451c-b168-9f20a1c54436",
   "metadata": {
    "tags": []
   },
   "outputs": [],
   "source": [
    "experimentId = runsDf.iloc[-1]['experiment_id']\n",
    "experimentRunId = runsDf.iloc[-1]['run_id']"
   ]
  },
  {
   "cell_type": "code",
   "execution_count": 88,
   "id": "584ac5f5-fbe1-4a7f-8abc-d8227f310e1b",
   "metadata": {
    "tags": []
   },
   "outputs": [],
   "source": [
    "def registerModelFromExperimentRun(modelName, experimentId, experimentRunId, modelPath):\n",
    "    \"\"\"\n",
    "    Method to register a model from an Experiment Run\n",
    "    This is an alternative to the mlflow method to register a model via the register_model parameter in the log_model method\n",
    "    Input: requires an experiment run\n",
    "    Output: \n",
    "    \"\"\"\n",
    "\n",
    "    model_name = 'wine_model_' + username + \"-\" + session_id\n",
    "\n",
    "    CreateRegisteredModelRequest = {\n",
    "                                    \"project_id\": os.environ['CDSW_PROJECT_ID'], \n",
    "                                    \"experiment_id\" : experimentId,\n",
    "                                    \"run_id\": experimentRunId, \n",
    "                                    \"model_name\": modelName, \n",
    "                                    \"model_path\": modelPath\n",
    "                                   }\n",
    "\n",
    "    try:\n",
    "        # Register a model.\n",
    "        api_response = client.create_registered_model(CreateRegisteredModelRequest)\n",
    "        pprint(api_response)\n",
    "    except ApiException as e:\n",
    "        print(\"Exception when calling CMLServiceApi->create_registered_model: %s\\n\" % e)\n",
    "        \n",
    "    return api_response"
   ]
  },
  {
   "cell_type": "code",
   "execution_count": 89,
   "id": "0acd5312-554d-4802-af56-a6b6238b68e4",
   "metadata": {
    "tags": []
   },
   "outputs": [
    {
     "name": "stdout",
     "output_type": "stream",
     "text": [
      "{'count': 0,\n",
      " 'created_at': datetime.datetime(2023, 12, 7, 2, 30, 26, 186000, tzinfo=tzlocal()),\n",
      " 'description': '',\n",
      " 'model_id': 'tn7b-mus2-aoc3-fbb1',\n",
      " 'model_versions': [{'created_at': datetime.datetime(2023, 12, 7, 2, 30, 26, 187000, tzinfo=tzlocal()),\n",
      "                     'model_id': '',\n",
      "                     'model_version_id': 'jbiq-60gt-142a-mciw',\n",
      "                     'model_version_metadata': {'mlflow_metadata': {'experiment_id': 'hrfa-bxuh-jgym-ilnt',\n",
      "                                                                    'metrics': [{'key': 'test_accuracy',\n",
      "                                                                                 'step': '0',\n",
      "                                                                                 'timestamp': None,\n",
      "                                                                                 'value': 0.906813627254509}],\n",
      "                                                                    'params': [],\n",
      "                                                                    'run_id': 'ccb3-d7vs-1k0b-61lr',\n",
      "                                                                    'tags': [{'key': 'mlflow.user',\n",
      "                                                                              'value': 'pauldefusco'},\n",
      "                                                                             {'key': 'mlflow.source.name',\n",
      "                                                                              'value': '/usr/local/lib/python3.9/site-packages/ipykernel_launcher.py'},\n",
      "                                                                             {'key': 'mlflow.source.type',\n",
      "                                                                              'value': 'LOCAL'},\n",
      "                                                                             {'key': 'mlflow.source.git.commit',\n",
      "                                                                              'value': 'b0ed9abb9bafa4391ebeb454d4ea83491c037b39'},\n",
      "                                                                             {'key': 'engineID',\n",
      "                                                                              'value': 'trfv30j0nr2dlyrh'},\n",
      "                                                                             {'key': 'mlflow.log-model.history',\n",
      "                                                                              'value': '[{\"run_id\": '\n",
      "                                                                                       '\"ccb3-d7vs-1k0b-61lr\", '\n",
      "                                                                                       '\"artifact_path\": '\n",
      "                                                                                       '\"best-model\", '\n",
      "                                                                                       '\"utc_time_created\": '\n",
      "                                                                                       '\"2023-12-07 '\n",
      "                                                                                       '01:35:04.831175\", '\n",
      "                                                                                       '\"flavors\": '\n",
      "                                                                                       '{\"spark\": '\n",
      "                                                                                       '{\"pyspark_version\": '\n",
      "                                                                                       '\"3.2.3\", '\n",
      "                                                                                       '\"model_data\": '\n",
      "                                                                                       '\"sparkml\", '\n",
      "                                                                                       '\"code\": '\n",
      "                                                                                       'null}, '\n",
      "                                                                                       '\"python_function\": '\n",
      "                                                                                       '{\"loader_module\": '\n",
      "                                                                                       '\"mlflow.spark\", '\n",
      "                                                                                       '\"python_version\": '\n",
      "                                                                                       '\"3.9.16\", '\n",
      "                                                                                       '\"data\": '\n",
      "                                                                                       '\"sparkml\", '\n",
      "                                                                                       '\"env\": '\n",
      "                                                                                       '{\"conda\": '\n",
      "                                                                                       '\"conda.yaml\", '\n",
      "                                                                                       '\"virtualenv\": '\n",
      "                                                                                       '\"python_env.yaml\"}}}, '\n",
      "                                                                                       '\"model_uuid\": '\n",
      "                                                                                       '\"2d05bd34ef5d41f9a6f002cc76be8ab1\", '\n",
      "                                                                                       '\"mlflow_version\": '\n",
      "                                                                                       '\"2.4.1\"}]'},\n",
      "                                                                             {'key': 'train_iceberg_snapshot_id',\n",
      "                                                                              'value': '2023-12-07 '\n",
      "                                                                                       '01:33:16.294000'},\n",
      "                                                                             {'key': 'train_iceberg_snapshot_committed_at',\n",
      "                                                                              'value': '12/07/2023'},\n",
      "                                                                             {'key': 'train_iceberg_parent_id',\n",
      "                                                                              'value': 'None'},\n",
      "                                                                             {'key': 'train_row_count',\n",
      "                                                                              'value': '8004'},\n",
      "                                                                             {'key': 'test_iceberg_snapshot_id',\n",
      "                                                                              'value': '2023-12-07 '\n",
      "                                                                                       '01:33:25.497000'},\n",
      "                                                                             {'key': 'test_iceberg_snapshot_committed_at',\n",
      "                                                                              'value': '12/07/2023'},\n",
      "                                                                             {'key': 'test_iceberg_parent_id',\n",
      "                                                                              'value': 'None'},\n",
      "                                                                             {'key': 'test_row_count',\n",
      "                                                                              'value': '1996'}]},\n",
      "                                                'mlops_type': 'MLFLOW',\n",
      "                                                'owner': None,\n",
      "                                                'project_id': 'DEVPRJ',\n",
      "                                                'simple_metadata': None,\n",
      "                                                'tags': [],\n",
      "                                                'workspace_url': 'ml-b74f8940-b97.go01-dem.ylcu-atmi.cloudera.site'},\n",
      "                     'notes': '',\n",
      "                     'number': 1,\n",
      "                     'status': 'READY',\n",
      "                     'tags': [],\n",
      "                     'updated_at': None,\n",
      "                     'user': {'email': '',\n",
      "                              'name': 'pauldefusco',\n",
      "                              'username': 'pauldefusco'},\n",
      "                     'version_name': ''}],\n",
      " 'name': 'SparkClf-pauldefusco-552b5423',\n",
      " 'next_page_token': '',\n",
      " 'owner': {'email': '', 'name': 'pauldefusco', 'username': 'pauldefusco'},\n",
      " 'permission': '',\n",
      " 'updated_at': None,\n",
      " 'visibility': 'PRIVATE'}\n"
     ]
    }
   ],
   "source": [
    "sessionId = secrets.token_hex(nbytes=4)\n",
    "modelPath = \"best-model\"\n",
    "modelName = \"SparkClf-\" + username + \"-\" + sessionId\n",
    "\n",
    "registeredModelResponse = registerModelFromExperimentRun(modelName, experimentId, experimentRunId, modelPath)"
   ]
  },
  {
   "cell_type": "markdown",
   "id": "59556809-483e-4ee4-9318-b1adb7837d3d",
   "metadata": {},
   "source": [
    "### Create a PRD Proj for Production"
   ]
  },
  {
   "cell_type": "code",
   "execution_count": 90,
   "id": "3247473d-d126-4a3a-b238-005bc73a35b7",
   "metadata": {
    "tags": []
   },
   "outputs": [],
   "source": [
    "def createPRDProject():\n",
    "    \"\"\"\n",
    "    Method to create a PRD Project\n",
    "    \"\"\"\n",
    "\n",
    "    createProjRequest = {\"name\": \"mlops_prd_prj\", \"template\":\"git\", \"git_url\":\"https://github.com/pdefusco/MLOps_CML_PRD_Proj.git\"}\n",
    "\n",
    "    try:\n",
    "        # Create a new project\n",
    "        api_response = client.create_project(createProjRequest)\n",
    "        pprint(api_response)\n",
    "    except ApiException as e:\n",
    "        print(\"Exception when calling CMLServiceApi->create_project: %s\\n\" % e)\n",
    "    \n",
    "    return api_response"
   ]
  },
  {
   "cell_type": "code",
   "execution_count": 91,
   "id": "011bf752-f73a-4e26-91d1-6b6687648e3c",
   "metadata": {
    "tags": []
   },
   "outputs": [
    {
     "name": "stdout",
     "output_type": "stream",
     "text": [
      "{'created_at': datetime.datetime(2023, 12, 7, 2, 40, 28, 818239, tzinfo=tzlocal()),\n",
      " 'creation_status': 'unknown',\n",
      " 'creator': {'email': 'pauldefusco@cloudera.com',\n",
      "             'name': 'Paul de Fusco',\n",
      "             'username': 'pauldefusco'},\n",
      " 'default_engine_type': 'ml_runtime',\n",
      " 'description': '',\n",
      " 'environment': '{\"PROJECT_OWNER\":\"pauldefusco\"}',\n",
      " 'ephemeral_storage_limit': 10,\n",
      " 'ephemeral_storage_request': 0,\n",
      " 'id': 'z48n-5y0m-vlui-658m',\n",
      " 'name': 'mlops_prd_prj',\n",
      " 'owner': {'email': 'pauldefusco@cloudera.com',\n",
      "           'name': 'Paul de Fusco',\n",
      "           'username': 'pauldefusco'},\n",
      " 'permissions': {'admin': True,\n",
      "                 'business_user': True,\n",
      "                 'inherit': False,\n",
      "                 'operator': True,\n",
      "                 'read': True,\n",
      "                 'write': True},\n",
      " 'shared_memory_limit': 0,\n",
      " 'updated_at': datetime.datetime(2023, 12, 7, 2, 40, 28, 818239, tzinfo=tzlocal()),\n",
      " 'visibility': 'private'}\n"
     ]
    }
   ],
   "source": [
    "projectCreationResponse = createPRDProject()"
   ]
  },
  {
   "cell_type": "code",
   "execution_count": 114,
   "id": "5225a413-b178-4900-99cf-3e0cbdde1234",
   "metadata": {},
   "outputs": [],
   "source": [
    "def validatePRDProject(username):\n",
    "    \"\"\"\n",
    "    Method to test successful project creation\n",
    "    \"\"\"\n",
    "    \n",
    "    try:\n",
    "        # Return all projects, optionally filtered, sorted, and paginated.\n",
    "        search_filter = {\"owner.username\" : username}\n",
    "        search = json.dumps(search_filter)\n",
    "        api_response = client.list_projects(search_filter=search)\n",
    "        #pprint(api_response)\n",
    "    except ApiException as e:\n",
    "        print(\"Exception when calling CMLServiceApi->list_projects: %s\\n\" % e)\n",
    "        \n",
    "    return api_response"
   ]
  },
  {
   "cell_type": "code",
   "execution_count": 119,
   "id": "26275345-d2ab-4afd-8f67-ce9511a7a8a8",
   "metadata": {},
   "outputs": [],
   "source": [
    "apiResp = validatePRDProject(os.environ[\"PROJECT_OWNER\"])\n",
    "#apiResp.projects"
   ]
  },
  {
   "cell_type": "markdown",
   "id": "9e08a26c-ddd5-4c09-bcf8-06e2cfa5d8d6",
   "metadata": {},
   "source": [
    "### Deploy Model in PRD Project"
   ]
  },
  {
   "cell_type": "code",
   "execution_count": 141,
   "id": "a693363b-c651-4378-842d-3984a7c014fe",
   "metadata": {
    "tags": []
   },
   "outputs": [],
   "source": [
    "prdProjId = projectCreationResponse.id\n",
    "modelId = registeredModelResponse.model_id\n",
    "modelVersionId = registeredModelResponse.model_versions[0].model_version_id\n",
    "modelName = \"SparkClf-\" + username + \"-\" + sessionId"
   ]
  },
  {
   "cell_type": "code",
   "execution_count": 142,
   "id": "48a9a263-2f50-4e3f-a29e-1d6f2b949219",
   "metadata": {
    "tags": []
   },
   "outputs": [
    {
     "data": {
      "text/plain": [
       "'jbiq-60gt-142a-mciw'"
      ]
     },
     "execution_count": 142,
     "metadata": {},
     "output_type": "execute_result"
    }
   ],
   "source": [
    "registeredModelResponse.model_versions[0].model_version_id"
   ]
  },
  {
   "cell_type": "code",
   "execution_count": 148,
   "id": "69724cc6-f562-4489-93ec-56266919271c",
   "metadata": {
    "tags": []
   },
   "outputs": [],
   "source": [
    "def createModel(projectId, modelName, modelId, description = \"My Spark Clf\"):\n",
    "    \"\"\"\n",
    "    Method to create a model \n",
    "    \"\"\"\n",
    "\n",
    "    CreateModelRequest = {\n",
    "                            \"project_id\": projectId, \n",
    "                            \"name\" : modelName,\n",
    "                            \"description\": description, \n",
    "                            \"registered_model_id\": modelId\n",
    "                         }\n",
    "\n",
    "    try:\n",
    "        # Create a model.\n",
    "        api_response = client.create_model(CreateModelRequest, projectId)\n",
    "        pprint(api_response)\n",
    "    except ApiException as e:\n",
    "        print(\"Exception when calling CMLServiceApi->create_model: %s\\n\" % e)\n",
    "        \n",
    "    return api_response"
   ]
  },
  {
   "cell_type": "code",
   "execution_count": 149,
   "id": "9434ffc0-a691-4841-af98-ac5deb9911a9",
   "metadata": {
    "tags": []
   },
   "outputs": [
    {
     "name": "stdout",
     "output_type": "stream",
     "text": [
      "{'access_key': 'm9nk7kqodce4t4a4xc9jmtq8t9hqaxq2',\n",
      " 'auth_enabled': True,\n",
      " 'created_at': datetime.datetime(2023, 12, 7, 3, 5, 23, 340262, tzinfo=tzlocal()),\n",
      " 'creator': {'email': 'pauldefusco@cloudera.com',\n",
      "             'name': 'Paul de Fusco',\n",
      "             'username': 'pauldefusco'},\n",
      " 'crn': 'crn:cdp:ml:us-west-1:8a1e15cd-04c2-48aa-8f35-b4a8c11997d3:workspace:af51f669-db4f-490b-837e-080f355e436e/e751da3c-b518-4492-9b26-f04df74b9fe2',\n",
      " 'default_replication_policy': {'num_replicas': '0', 'type': ''},\n",
      " 'default_resources': {'cpu_millicores': '0',\n",
      "                       'memory_mb': '0',\n",
      "                       'nvidia_gpus': '0'},\n",
      " 'deletion_status': '',\n",
      " 'description': 'My Spark Clf',\n",
      " 'id': 'e751da3c-b518-4492-9b26-f04df74b9fe2',\n",
      " 'name': 'SparkClf-pauldefusco-552b5423',\n",
      " 'project': {'default_project_engine': '',\n",
      "             'name': '',\n",
      "             'public_identifier': '',\n",
      "             'slug': ''},\n",
      " 'registered_model_id': 'tn7b-mus2-aoc3-fbb1',\n",
      " 'run_as': 0,\n",
      " 'updated_at': datetime.datetime(2023, 12, 7, 3, 5, 23, 340262, tzinfo=tzlocal()),\n",
      " 'visibility': 'private'}\n"
     ]
    }
   ],
   "source": [
    "createModelResponse = createModel(prdProjId, modelName, modelId)"
   ]
  },
  {
   "cell_type": "code",
   "execution_count": 153,
   "id": "f6224a26-2144-479a-b3c1-e695826843e8",
   "metadata": {
    "tags": []
   },
   "outputs": [],
   "source": [
    "def createModelBuild(projectId, modelVersionId, modelCreationId):\n",
    "    \"\"\"\n",
    "    Method to create a Model build\n",
    "    \"\"\"\n",
    "    \n",
    "    # Create Model Build\n",
    "    CreateModelBuildRequest = {\n",
    "                                \"registered_model_version_id\": modelVersionId, \n",
    "                                \"runtime_identifier\": \"docker.repository.cloudera.com/cloudera/cdsw/ml-runtime-workbench-python3.9-standard:2023.08.2-b8\",\n",
    "                                \"comment\": \"invoking model build\",\n",
    "                                \"model_id\": modelCreationId\n",
    "                              }\n",
    "\n",
    "    try:\n",
    "        # Create a model build.\n",
    "        api_response = client.create_model_build(CreateModelBuildRequest, projectId, modelCreationId)\n",
    "        pprint(api_response)\n",
    "    except ApiException as e:\n",
    "        print(\"Exception when calling CMLServiceApi->create_model_build: %s\\n\" % e)\n",
    "\n",
    "    return api_response"
   ]
  },
  {
   "cell_type": "code",
   "execution_count": 154,
   "id": "540f6d71-183f-4dc9-945b-f702f5274721",
   "metadata": {
    "tags": []
   },
   "outputs": [],
   "source": [
    "modelCreationId = createModelResponse.id"
   ]
  },
  {
   "cell_type": "code",
   "execution_count": 155,
   "id": "c902e669-8bb7-48e1-bf49-0cbd9cdd7343",
   "metadata": {
    "tags": []
   },
   "outputs": [
    {
     "name": "stdout",
     "output_type": "stream",
     "text": [
      "{'built_at': datetime.datetime(1, 1, 1, 0, 0, tzinfo=tzlocal()),\n",
      " 'comment': 'invoking model build',\n",
      " 'created_at': datetime.datetime(2023, 12, 7, 3, 17, 14, 865518, tzinfo=tzlocal()),\n",
      " 'creator': {'email': 'pauldefusco@cloudera.com',\n",
      "             'name': 'Paul de Fusco',\n",
      "             'username': 'pauldefusco'},\n",
      " 'crn': 'crn:cdp:ml:us-west-1:8a1e15cd-04c2-48aa-8f35-b4a8c11997d3:workspace:af51f669-db4f-490b-837e-080f355e436e/bd3410bd-c1f6-4c62-8692-2ab5fb7415ff',\n",
      " 'deletion_status': '',\n",
      " 'engine_image': '',\n",
      " 'file_path': 'predict.py',\n",
      " 'function_name': 'predict',\n",
      " 'id': 'bd3410bd-c1f6-4c62-8692-2ab5fb7415ff',\n",
      " 'kernel': 'Python 3.9',\n",
      " 'model_id': 'e751da3c-b518-4492-9b26-f04df74b9fe2',\n",
      " 'registered_model_version_id': 'jbiq-60gt-142a-mciw',\n",
      " 'runtime_addon_identifiers': ['hadoop-cli-7.2.16-hf3'],\n",
      " 'runtime_identifier': 'docker.repository.cloudera.com/cloudera/cdsw/ml-runtime-workbench-python3.9-standard:2023.08.2-b8',\n",
      " 'status': 'pending',\n",
      " 'updated_at': datetime.datetime(2023, 12, 7, 3, 17, 15, 897279, tzinfo=tzlocal())}\n"
     ]
    }
   ],
   "source": [
    "createModelBuildResponse = createModelBuild(prdProjId, modelVersionId, modelCreationId)"
   ]
  },
  {
   "cell_type": "code",
   "execution_count": 156,
   "id": "1c7765f0-cb38-415a-9d6e-d97dbed9a6b5",
   "metadata": {
    "tags": []
   },
   "outputs": [],
   "source": [
    "def createModelDeployment(modelBuildId, projectId, modelCreationId):\n",
    "    \"\"\"\n",
    "    Method to deploy a model build\n",
    "    \"\"\"\n",
    "    \n",
    "    CreateModelDeploymentRequest = {\n",
    "      \"cpu\" : \"2\",\n",
    "      \"memory\" : \"4\"\n",
    "    }\n",
    "\n",
    "    try:\n",
    "        # Create a model deployment.\n",
    "        api_response = client.create_model_deployment(CreateModelDeploymentRequest, projectId, modelCreationId, modelBuildId)\n",
    "        pprint(api_response)\n",
    "    except ApiException as e:\n",
    "        print(\"Exception when calling CMLServiceApi->create_model_deployment: %s\\n\" % e)\n",
    "\n",
    "    return api_response\n",
    "        \n",
    "    #REMEMBER TO MAKE SURE ALL NUMBERS ARE FLOATS\n",
    "    #model_request = {\"dataframe_split\": {\"columns\":[\"fixed acidity\", \"volatile acidity\", \"citric acid\", \n",
    "    #\"residual sugar\", \"chlorides\", \"free sulfur dioxide\", \"total sulfur dioxide\", \"density\", \"pH\", \n",
    "    #\"sulphates\", \"alcohol\"],\"data\":[[6.2, 0.66, 0.48, 1.2, 0.029, 29.1, 75.1, 0.98, 3.33, 0.39, 12.8]]}}"
   ]
  },
  {
   "cell_type": "code",
   "execution_count": 157,
   "id": "443ab417-2187-46f6-881b-71c3efd76309",
   "metadata": {
    "tags": []
   },
   "outputs": [],
   "source": [
    "modelBuildId = createModelBuildResponse.id"
   ]
  },
  {
   "cell_type": "code",
   "execution_count": 158,
   "id": "28bafa18-9593-4038-b587-c6da0770abc9",
   "metadata": {
    "tags": []
   },
   "outputs": [
    {
     "name": "stdout",
     "output_type": "stream",
     "text": [
      "{'build_id': 'bd3410bd-c1f6-4c62-8692-2ab5fb7415ff',\n",
      " 'cpu': 2.0,\n",
      " 'created_at': datetime.datetime(2023, 12, 7, 3, 23, 26, 766030, tzinfo=tzlocal()),\n",
      " 'crn': 'crn:cdp:ml:us-west-1:8a1e15cd-04c2-48aa-8f35-b4a8c11997d3:workspace:af51f669-db4f-490b-837e-080f355e436e/759b25ed-2011-4649-9b7a-e4f44793bc5f',\n",
      " 'deployer': {'email': 'pauldefusco@cloudera.com',\n",
      "              'name': 'Paul de Fusco',\n",
      "              'username': 'pauldefusco'},\n",
      " 'environment': '{}',\n",
      " 'id': '759b25ed-2011-4649-9b7a-e4f44793bc5f',\n",
      " 'memory': 4.0,\n",
      " 'model_id': 'e751da3c-b518-4492-9b26-f04df74b9fe2',\n",
      " 'nvidia_gpu': 0,\n",
      " 'project_id': 'z48n-5y0m-vlui-658m',\n",
      " 'replicas': 1,\n",
      " 'status': 'deploying',\n",
      " 'stopped_at': datetime.datetime(1, 1, 1, 0, 0, tzinfo=tzlocal()),\n",
      " 'updated_at': datetime.datetime(2023, 12, 7, 3, 23, 27, 229878, tzinfo=tzlocal())}\n"
     ]
    },
    {
     "data": {
      "text/plain": [
       "{'build_id': 'bd3410bd-c1f6-4c62-8692-2ab5fb7415ff',\n",
       " 'cpu': 2.0,\n",
       " 'created_at': datetime.datetime(2023, 12, 7, 3, 23, 26, 766030, tzinfo=tzlocal()),\n",
       " 'crn': 'crn:cdp:ml:us-west-1:8a1e15cd-04c2-48aa-8f35-b4a8c11997d3:workspace:af51f669-db4f-490b-837e-080f355e436e/759b25ed-2011-4649-9b7a-e4f44793bc5f',\n",
       " 'deployer': {'email': 'pauldefusco@cloudera.com',\n",
       "              'name': 'Paul de Fusco',\n",
       "              'username': 'pauldefusco'},\n",
       " 'environment': '{}',\n",
       " 'id': '759b25ed-2011-4649-9b7a-e4f44793bc5f',\n",
       " 'memory': 4.0,\n",
       " 'model_id': 'e751da3c-b518-4492-9b26-f04df74b9fe2',\n",
       " 'nvidia_gpu': 0,\n",
       " 'project_id': 'z48n-5y0m-vlui-658m',\n",
       " 'replicas': 1,\n",
       " 'status': 'deploying',\n",
       " 'stopped_at': datetime.datetime(1, 1, 1, 0, 0, tzinfo=tzlocal()),\n",
       " 'updated_at': datetime.datetime(2023, 12, 7, 3, 23, 27, 229878, tzinfo=tzlocal())}"
      ]
     },
     "execution_count": 158,
     "metadata": {},
     "output_type": "execute_result"
    }
   ],
   "source": [
    "createModelDeployment(modelBuildId, prdProjId, modelCreationId)"
   ]
  },
  {
   "cell_type": "markdown",
   "id": "3f9238c9-ee1c-432b-8db6-056d3bcc86fd",
   "metadata": {
    "tags": []
   },
   "source": [
    "### Now try a request with the following payload!"
   ]
  },
  {
   "cell_type": "code",
   "execution_count": 160,
   "id": "c67fc8d1-400e-4aaa-a461-2be30e285630",
   "metadata": {
    "tags": []
   },
   "outputs": [],
   "source": [
    "model_request = {\"dataframe_split\": {\"columns\": [\"age\", \"credit_card_balance\", \"bank_account_balance\", \"mortgage_balance\", \"primary_loan_balance\", \"sec_bank_account_balance\", \"savings_account_balance\", \"sec_savings_account_balance\", \"secondary_loan_balance\", \"total_est_nworth\", \"college_loan_balance\", \"transaction_amount\", \"latitude\", \"longitude\"],\n",
    "                                     \"data\":[[11.5, 20000.5, 3900.5, 14000.5, 2944.5, 3400.5, 12000.5, 29000.5, 1300.5, 15000.5, 10000.5, 2000.5, 90.5, 120.5]]}}"
   ]
  },
  {
   "cell_type": "code",
   "execution_count": null,
   "id": "1a82ce89-8081-4314-b1bc-1a4128c36453",
   "metadata": {},
   "outputs": [],
   "source": []
  },
  {
   "cell_type": "code",
   "execution_count": null,
   "id": "9797d6e4-e499-4e9b-bd6a-4bf4e374029c",
   "metadata": {},
   "outputs": [],
   "source": [
    "# register model here"
   ]
  }
 ],
 "metadata": {
  "kernelspec": {
   "display_name": "Python 3 (ipykernel)",
   "language": "python",
   "name": "python3"
  },
  "language_info": {
   "codemirror_mode": {
    "name": "ipython",
    "version": 3
   },
   "file_extension": ".py",
   "mimetype": "text/x-python",
   "name": "python",
   "nbconvert_exporter": "python",
   "pygments_lexer": "ipython3",
   "version": "3.9.16"
  }
 },
 "nbformat": 4,
 "nbformat_minor": 5
}
