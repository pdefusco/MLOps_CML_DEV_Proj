{
 "cells": [
  {
   "cell_type": "code",
   "execution_count": 1,
   "id": "12dbadbb-ff1c-4297-bee2-49f5be7db28b",
   "metadata": {
    "tags": []
   },
   "outputs": [],
   "source": [
    "#****************************************************************************\n",
    "# (C) Cloudera, Inc. 2020-2023\n",
    "#  All rights reserved.\n",
    "#\n",
    "#  Applicable Open Source License: GNU Affero General Public License v3.0\n",
    "#\n",
    "#  NOTE: Cloudera open source products are modular software products\n",
    "#  made up of hundreds of individual components, each of which was\n",
    "#  individually copyrighted.  Each Cloudera open source product is a\n",
    "#  collective work under U.S. Copyright Law. Your license to use the\n",
    "#  collective work is as provided in your written agreement with\n",
    "#  Cloudera.  Used apart from the collective work, this file is\n",
    "#  licensed for your use pursuant to the open source license\n",
    "#  identified above.\n",
    "#\n",
    "#  This code is provided to you pursuant a written agreement with\n",
    "#  (i) Cloudera, Inc. or (ii) a third-party authorized to distribute\n",
    "#  this code. If you do not have a written agreement with Cloudera nor\n",
    "#  with an authorized and properly licensed third party, you do not\n",
    "#  have any rights to access nor to use this code.\n",
    "#\n",
    "#  Absent a written agreement with Cloudera, Inc. (“Cloudera”) to the\n",
    "#  contrary, A) CLOUDERA PROVIDES THIS CODE TO YOU WITHOUT WARRANTIES OF ANY\n",
    "#  KIND; (B) CLOUDERA DISCLAIMS ANY AND ALL EXPRESS AND IMPLIED\n",
    "#  WARRANTIES WITH RESPECT TO THIS CODE, INCLUDING BUT NOT LIMITED TO\n",
    "#  IMPLIED WARRANTIES OF TITLE, NON-INFRINGEMENT, MERCHANTABILITY AND\n",
    "#  FITNESS FOR A PARTICULAR PURPOSE; (C) CLOUDERA IS NOT LIABLE TO YOU,\n",
    "#  AND WILL NOT DEFEND, INDEMNIFY, NOR HOLD YOU HARMLESS FOR ANY CLAIMS\n",
    "#  ARISING FROM OR RELATED TO THE CODE; AND (D)WITH RESPECT TO YOUR EXERCISE\n",
    "#  OF ANY RIGHTS GRANTED TO YOU FOR THE CODE, CLOUDERA IS NOT LIABLE FOR ANY\n",
    "#  DIRECT, INDIRECT, INCIDENTAL, SPECIAL, EXEMPLARY, PUNITIVE OR\n",
    "#  CONSEQUENTIAL DAMAGES INCLUDING, BUT NOT LIMITED TO, DAMAGES\n",
    "#  RELATED TO LOST REVENUE, LOST PROFITS, LOSS OF INCOME, LOSS OF\n",
    "#  BUSINESS ADVANTAGE OR UNAVAILABILITY, OR LOSS OR CORRUPTION OF\n",
    "#  DATA.\n",
    "#\n",
    "# #  Author(s): Paul de Fusco\n",
    "#***************************************************************************/"
   ]
  },
  {
   "cell_type": "code",
   "execution_count": 2,
   "id": "237b9e64-4cc3-4c0b-98de-00e011b3e415",
   "metadata": {
    "tags": []
   },
   "outputs": [],
   "source": [
    "from pyspark.sql import SparkSession\n",
    "from pyspark.sql import functions as F"
   ]
  },
  {
   "cell_type": "code",
   "execution_count": 3,
   "id": "8267821f-55fe-43ef-a5da-f04f70000a65",
   "metadata": {
    "tags": []
   },
   "outputs": [],
   "source": [
    "import numpy as np\n",
    "import pandas as pd\n",
    "import os"
   ]
  },
  {
   "cell_type": "code",
   "execution_count": 4,
   "id": "0ebb8846-0353-4957-bb72-590595493e16",
   "metadata": {
    "tags": []
   },
   "outputs": [],
   "source": [
    "import matplotlib.pyplot as plt"
   ]
  },
  {
   "cell_type": "code",
   "execution_count": 5,
   "id": "b59cd07a-695d-4777-b426-d6711af194ee",
   "metadata": {
    "tags": []
   },
   "outputs": [],
   "source": [
    "import seaborn as sns\n",
    "import cml.data_v1 as cmldata"
   ]
  },
  {
   "cell_type": "code",
   "execution_count": 6,
   "id": "354ccef9-5717-445e-bdac-174ceda8c9ca",
   "metadata": {
    "tags": []
   },
   "outputs": [
    {
     "name": "stderr",
     "output_type": "stream",
     "text": [
      "Setting spark.hadoop.yarn.resourcemanager.principal to pauldefusco\n",
      "Using Spark's default log4j profile: org/apache/spark/log4j-defaults.properties\n",
      "Setting default log level to \"WARN\".\n",
      "To adjust logging level use sc.setLogLevel(newLevel). For SparkR, use setLogLevel(newLevel).\n",
      "23/12/07 03:43:07 WARN SparkConf: The configuration key 'spark.yarn.access.hadoopFileSystems' has been deprecated as of Spark 3.0 and may be removed in the future. Please use the new key 'spark.kerberos.access.hadoopFileSystems' instead.\n",
      "23/12/07 03:43:08 WARN Utils: Service 'SparkUI' could not bind on port 20049. Attempting port 20050.\n",
      "23/12/07 03:43:08 WARN Utils: Service 'SparkUI' could not bind on port 20050. Attempting port 20051.\n",
      "23/12/07 03:43:11 WARN MetricsConfig: Cannot locate configuration: tried hadoop-metrics2-s3a-file-system.properties,hadoop-metrics2.properties\n",
      "23/12/07 03:43:35 WARN HiveServer2CredentialProvider: Failed to get HS2 delegation token\n",
      "java.util.NoSuchElementException: spark.sql.hive.hiveserver2.jdbc.url\n",
      "\tat org.apache.spark.SparkConf.$anonfun$get$1(SparkConf.scala:245)\n",
      "\tat scala.Option.getOrElse(Option.scala:189)\n",
      "\tat org.apache.spark.SparkConf.get(SparkConf.scala:245)\n",
      "\tat com.hortonworks.spark.deploy.yarn.security.HiveServer2CredentialProvider.obtainDelegationTokens(HiveServer2CredentialProvider.scala:64)\n",
      "\tat org.apache.spark.deploy.security.HadoopDelegationTokenManager.$anonfun$obtainDelegationTokens$2(HadoopDelegationTokenManager.scala:164)\n",
      "\tat scala.collection.TraversableLike.$anonfun$flatMap$1(TraversableLike.scala:245)\n",
      "\tat scala.collection.Iterator.foreach(Iterator.scala:941)\n",
      "\tat scala.collection.Iterator.foreach$(Iterator.scala:941)\n",
      "\tat scala.collection.AbstractIterator.foreach(Iterator.scala:1429)\n",
      "\tat scala.collection.MapLike$DefaultValuesIterable.foreach(MapLike.scala:213)\n",
      "\tat scala.collection.TraversableLike.flatMap(TraversableLike.scala:245)\n",
      "\tat scala.collection.TraversableLike.flatMap$(TraversableLike.scala:242)\n",
      "\tat scala.collection.AbstractTraversable.flatMap(Traversable.scala:108)\n",
      "\tat org.apache.spark.deploy.security.HadoopDelegationTokenManager.org$apache$spark$deploy$security$HadoopDelegationTokenManager$$obtainDelegationTokens(HadoopDelegationTokenManager.scala:162)\n",
      "\tat org.apache.spark.deploy.security.HadoopDelegationTokenManager$$anon$4.run(HadoopDelegationTokenManager.scala:226)\n",
      "\tat org.apache.spark.deploy.security.HadoopDelegationTokenManager$$anon$4.run(HadoopDelegationTokenManager.scala:224)\n",
      "\tat java.security.AccessController.doPrivileged(Native Method)\n",
      "\tat javax.security.auth.Subject.doAs(Subject.java:422)\n",
      "\tat org.apache.hadoop.security.UserGroupInformation.doAs(UserGroupInformation.java:1899)\n",
      "\tat org.apache.spark.deploy.security.HadoopDelegationTokenManager.obtainTokensAndScheduleRenewal(HadoopDelegationTokenManager.scala:224)\n",
      "\tat org.apache.spark.deploy.security.HadoopDelegationTokenManager.org$apache$spark$deploy$security$HadoopDelegationTokenManager$$updateTokensTask(HadoopDelegationTokenManager.scala:198)\n",
      "\tat org.apache.spark.deploy.security.HadoopDelegationTokenManager.start(HadoopDelegationTokenManager.scala:123)\n",
      "\tat org.apache.spark.scheduler.cluster.CoarseGrainedSchedulerBackend.$anonfun$start$1(CoarseGrainedSchedulerBackend.scala:552)\n",
      "\tat org.apache.spark.scheduler.cluster.CoarseGrainedSchedulerBackend.$anonfun$start$1$adapted(CoarseGrainedSchedulerBackend.scala:549)\n",
      "\tat scala.Option.foreach(Option.scala:407)\n",
      "\tat org.apache.spark.scheduler.cluster.CoarseGrainedSchedulerBackend.start(CoarseGrainedSchedulerBackend.scala:549)\n",
      "\tat org.apache.spark.scheduler.cluster.k8s.KubernetesClusterSchedulerBackend.start(KubernetesClusterSchedulerBackend.scala:95)\n",
      "\tat org.apache.spark.scheduler.TaskSchedulerImpl.start(TaskSchedulerImpl.scala:220)\n",
      "\tat org.apache.spark.SparkContext.<init>(SparkContext.scala:581)\n",
      "\tat org.apache.spark.api.java.JavaSparkContext.<init>(JavaSparkContext.scala:58)\n",
      "\tat sun.reflect.NativeConstructorAccessorImpl.newInstance0(Native Method)\n",
      "\tat sun.reflect.NativeConstructorAccessorImpl.newInstance(NativeConstructorAccessorImpl.java:62)\n",
      "\tat sun.reflect.DelegatingConstructorAccessorImpl.newInstance(DelegatingConstructorAccessorImpl.java:45)\n",
      "\tat java.lang.reflect.Constructor.newInstance(Constructor.java:423)\n",
      "\tat py4j.reflection.MethodInvoker.invoke(MethodInvoker.java:247)\n",
      "\tat py4j.reflection.ReflectionEngine.invoke(ReflectionEngine.java:357)\n",
      "\tat py4j.Gateway.invoke(Gateway.java:238)\n",
      "\tat py4j.commands.ConstructorCommand.invokeConstructor(ConstructorCommand.java:80)\n",
      "\tat py4j.commands.ConstructorCommand.execute(ConstructorCommand.java:69)\n",
      "\tat py4j.ClientServerConnection.waitForCommands(ClientServerConnection.java:182)\n",
      "\tat py4j.ClientServerConnection.run(ClientServerConnection.java:106)\n",
      "\tat java.lang.Thread.run(Thread.java:750)\n",
      "23/12/07 03:43:43 WARN ExecutorAllocationManager: Dynamic allocation without a shuffle service is an experimental feature.\n"
     ]
    }
   ],
   "source": [
    "# Sample in-code customization of spark configurations\n",
    "from pyspark import SparkContext\n",
    "SparkContext.setSystemProperty('spark.executor.cores', '2')\n",
    "SparkContext.setSystemProperty('spark.executor.memory', '4g')\n",
    "\n",
    "CONNECTION_NAME = \"go01-aw-dl\"\n",
    "conn = cmldata.get_connection(CONNECTION_NAME)\n",
    "spark = conn.get_spark_session()\n",
    "username = os.environ[\"PROJECT_OWNER\"]\n",
    "dbname = \"MLOPS\""
   ]
  },
  {
   "cell_type": "markdown",
   "id": "e125052e-8459-423e-956f-fd995ea11eaf",
   "metadata": {},
   "source": [
    "### Using PandasOnSpark for Data Exploration"
   ]
  },
  {
   "cell_type": "code",
   "execution_count": 7,
   "id": "20eec17c-3b31-478b-a6f5-353267fc7245",
   "metadata": {
    "tags": []
   },
   "outputs": [
    {
     "name": "stderr",
     "output_type": "stream",
     "text": [
      "WARNING:root:'PYARROW_IGNORE_TIMEZONE' environment variable was not set. It is required to set this environment variable to '1' in both driver and executor sides if you use pyarrow>=2.0.0. pandas-on-Spark will set it for you but it does not work if there is a Spark context already launched.\n",
      "23/12/07 03:43:47 WARN HiveClientImpl: Detected HiveConf hive.execution.engine is 'tez' and will be reset to 'mr' to disable useless hive logic\n",
      "Hive Session ID = 04c20f60-c255-4581-9e8d-f554033181be\n",
      "23/12/07 03:43:49 WARN HiveMetaStoreClient: Failed to connect to the MetaStore Server...\n"
     ]
    }
   ],
   "source": [
    "import pyspark.pandas as ps\n",
    "ps.set_option('compute.default_index_type', 'distributed')\n",
    "df_from_sql_distributed = ps.read_table(\"{0}.BANKING_TRANSACTIONS_{1}\".format(dbname, username))"
   ]
  },
  {
   "cell_type": "code",
   "execution_count": 8,
   "id": "dbc118b6-fa5e-4f3b-9490-512c57a21555",
   "metadata": {
    "tags": []
   },
   "outputs": [
    {
     "name": "stderr",
     "output_type": "stream",
     "text": [
      "23/12/07 03:43:52 WARN package: Truncated the string representation of a plan since it was too large. This behavior can be adjusted by setting 'spark.sql.debug.maxToStringFields'.\n",
      "                                                                                \r"
     ]
    },
    {
     "data": {
      "text/html": [
       "<div>\n",
       "<style scoped>\n",
       "    .dataframe tbody tr th:only-of-type {\n",
       "        vertical-align: middle;\n",
       "    }\n",
       "\n",
       "    .dataframe tbody tr th {\n",
       "        vertical-align: top;\n",
       "    }\n",
       "\n",
       "    .dataframe thead th {\n",
       "        text-align: right;\n",
       "    }\n",
       "</style>\n",
       "<table border=\"1\" class=\"dataframe\">\n",
       "  <thead>\n",
       "    <tr style=\"text-align: right;\">\n",
       "      <th></th>\n",
       "      <th>name</th>\n",
       "      <th>address</th>\n",
       "      <th>email</th>\n",
       "      <th>age</th>\n",
       "      <th>credit_card_balance</th>\n",
       "      <th>bank_account_balance</th>\n",
       "      <th>mortgage_balance</th>\n",
       "      <th>sec_bank_account_balance</th>\n",
       "      <th>savings_account_balance</th>\n",
       "      <th>sec_savings_account_balance</th>\n",
       "      <th>total_est_nworth</th>\n",
       "      <th>primary_loan_balance</th>\n",
       "      <th>secondary_loan_balance</th>\n",
       "      <th>college_loan_balance</th>\n",
       "      <th>aba_routing</th>\n",
       "      <th>bank_country</th>\n",
       "      <th>account_no</th>\n",
       "      <th>int_account_no</th>\n",
       "      <th>swift11</th>\n",
       "      <th>credit_card_number</th>\n",
       "      <th>credit_card_provider</th>\n",
       "      <th>event_type</th>\n",
       "      <th>longitude</th>\n",
       "      <th>latitude</th>\n",
       "      <th>transaction_currency</th>\n",
       "      <th>transaction_amount</th>\n",
       "      <th>fraud</th>\n",
       "    </tr>\n",
       "  </thead>\n",
       "  <tbody>\n",
       "    <tr>\n",
       "      <th>0</th>\n",
       "      <td>Anna Nielsen</td>\n",
       "      <td>Unit 3575 Box 9075\\nDPO AP 68229</td>\n",
       "      <td>tpark@lynch.org</td>\n",
       "      <td>75</td>\n",
       "      <td>21305</td>\n",
       "      <td>16840</td>\n",
       "      <td>28308</td>\n",
       "      <td>51828</td>\n",
       "      <td>355457</td>\n",
       "      <td>308440</td>\n",
       "      <td>474441</td>\n",
       "      <td>422</td>\n",
       "      <td>31642</td>\n",
       "      <td>6062</td>\n",
       "      <td>048724911</td>\n",
       "      <td>GB</td>\n",
       "      <td>JPNK03923598500802</td>\n",
       "      <td>GB32NHFO47640061531779</td>\n",
       "      <td>YNQKGB9EDI6</td>\n",
       "      <td>4446381674421787</td>\n",
       "      <td>VISA 13 digit</td>\n",
       "      <td>cash_advance</td>\n",
       "      <td>-15.0</td>\n",
       "      <td>52.0</td>\n",
       "      <td>USD</td>\n",
       "      <td>7717</td>\n",
       "      <td>YES</td>\n",
       "    </tr>\n",
       "    <tr>\n",
       "      <th>1</th>\n",
       "      <td>Linda Brewer</td>\n",
       "      <td>PSC 4684, Box 6396\\nAPO AE 60017</td>\n",
       "      <td>isaiahprice@sanders.org</td>\n",
       "      <td>87</td>\n",
       "      <td>4287</td>\n",
       "      <td>15265</td>\n",
       "      <td>596398</td>\n",
       "      <td>21743</td>\n",
       "      <td>402794</td>\n",
       "      <td>321811</td>\n",
       "      <td>316707</td>\n",
       "      <td>3748</td>\n",
       "      <td>367266</td>\n",
       "      <td>3497</td>\n",
       "      <td>035242053</td>\n",
       "      <td>GB</td>\n",
       "      <td>XCXP74373524900680</td>\n",
       "      <td>GB06ZWCK02788918986506</td>\n",
       "      <td>YAIZGBG5395</td>\n",
       "      <td>30021393235346</td>\n",
       "      <td>VISA 16 digit</td>\n",
       "      <td>purchase</td>\n",
       "      <td>18.0</td>\n",
       "      <td>72.0</td>\n",
       "      <td>EUR</td>\n",
       "      <td>6343</td>\n",
       "      <td>NO</td>\n",
       "    </tr>\n",
       "    <tr>\n",
       "      <th>2</th>\n",
       "      <td>Destiny Gonzalez</td>\n",
       "      <td>262 Martin Summit\\nMasseyfort, NE 18883</td>\n",
       "      <td>petersenrichard@brown.com</td>\n",
       "      <td>90</td>\n",
       "      <td>15322</td>\n",
       "      <td>137</td>\n",
       "      <td>858722</td>\n",
       "      <td>22198</td>\n",
       "      <td>298947</td>\n",
       "      <td>363054</td>\n",
       "      <td>247698</td>\n",
       "      <td>1551</td>\n",
       "      <td>418030</td>\n",
       "      <td>6641</td>\n",
       "      <td>105712976</td>\n",
       "      <td>GB</td>\n",
       "      <td>YMSH22724261069270</td>\n",
       "      <td>GB81ZMFS44089059896435</td>\n",
       "      <td>NQCDGBYHCJ5</td>\n",
       "      <td>4145907181506</td>\n",
       "      <td>American Express</td>\n",
       "      <td>purchase</td>\n",
       "      <td>1.0</td>\n",
       "      <td>10.0</td>\n",
       "      <td>KWD</td>\n",
       "      <td>9962</td>\n",
       "      <td>NO</td>\n",
       "    </tr>\n",
       "    <tr>\n",
       "      <th>3</th>\n",
       "      <td>Derek Ross</td>\n",
       "      <td>54776 Jeffrey Field\\nTammyport, PR 91337</td>\n",
       "      <td>ballen@wright-nelson.com</td>\n",
       "      <td>62</td>\n",
       "      <td>8093</td>\n",
       "      <td>6776</td>\n",
       "      <td>919655</td>\n",
       "      <td>55062</td>\n",
       "      <td>370276</td>\n",
       "      <td>70806</td>\n",
       "      <td>132810</td>\n",
       "      <td>4534</td>\n",
       "      <td>337194</td>\n",
       "      <td>314</td>\n",
       "      <td>048340793</td>\n",
       "      <td>GB</td>\n",
       "      <td>LHKR41860920715484</td>\n",
       "      <td>GB32RYDF09810119235681</td>\n",
       "      <td>OTKZGBNT9C9</td>\n",
       "      <td>3503447266508505</td>\n",
       "      <td>JCB 16 digit</td>\n",
       "      <td>purchase</td>\n",
       "      <td>125.0</td>\n",
       "      <td>15.0</td>\n",
       "      <td>BHD</td>\n",
       "      <td>243</td>\n",
       "      <td>YES</td>\n",
       "    </tr>\n",
       "    <tr>\n",
       "      <th>4</th>\n",
       "      <td>Ricky Decker</td>\n",
       "      <td>85567 Smith Avenue\\nLake Deborah, MH 53437</td>\n",
       "      <td>jessica45@reed-castaneda.com</td>\n",
       "      <td>22</td>\n",
       "      <td>6363</td>\n",
       "      <td>59697</td>\n",
       "      <td>594999</td>\n",
       "      <td>44478</td>\n",
       "      <td>184480</td>\n",
       "      <td>282373</td>\n",
       "      <td>361227</td>\n",
       "      <td>3380</td>\n",
       "      <td>2801</td>\n",
       "      <td>2506</td>\n",
       "      <td>082479989</td>\n",
       "      <td>GB</td>\n",
       "      <td>SPXV98613458317804</td>\n",
       "      <td>GB65TXSQ91214381371229</td>\n",
       "      <td>WHYQGB0T17J</td>\n",
       "      <td>4628254695962438</td>\n",
       "      <td>JCB 16 digit</td>\n",
       "      <td>purchase</td>\n",
       "      <td>117.0</td>\n",
       "      <td>3.0</td>\n",
       "      <td>GBP</td>\n",
       "      <td>26336</td>\n",
       "      <td>YES</td>\n",
       "    </tr>\n",
       "  </tbody>\n",
       "</table>\n",
       "</div>"
      ],
      "text/plain": [
       "               name                                     address                         email age credit_card_balance bank_account_balance mortgage_balance sec_bank_account_balance savings_account_balance sec_savings_account_balance total_est_nworth primary_loan_balance secondary_loan_balance college_loan_balance aba_routing bank_country          account_no          int_account_no      swift11 credit_card_number credit_card_provider    event_type  longitude  latitude transaction_currency transaction_amount fraud\n",
       "0      Anna Nielsen            Unit 3575 Box 9075\\nDPO AP 68229               tpark@lynch.org  75               21305                16840            28308                    51828                  355457                      308440           474441                  422                  31642                 6062   048724911           GB  JPNK03923598500802  GB32NHFO47640061531779  YNQKGB9EDI6   4446381674421787        VISA 13 digit  cash_advance      -15.0      52.0                  USD               7717   YES\n",
       "1      Linda Brewer            PSC 4684, Box 6396\\nAPO AE 60017       isaiahprice@sanders.org  87                4287                15265           596398                    21743                  402794                      321811           316707                 3748                 367266                 3497   035242053           GB  XCXP74373524900680  GB06ZWCK02788918986506  YAIZGBG5395     30021393235346        VISA 16 digit      purchase       18.0      72.0                  EUR               6343    NO\n",
       "2  Destiny Gonzalez     262 Martin Summit\\nMasseyfort, NE 18883     petersenrichard@brown.com  90               15322                  137           858722                    22198                  298947                      363054           247698                 1551                 418030                 6641   105712976           GB  YMSH22724261069270  GB81ZMFS44089059896435  NQCDGBYHCJ5      4145907181506     American Express      purchase        1.0      10.0                  KWD               9962    NO\n",
       "3        Derek Ross    54776 Jeffrey Field\\nTammyport, PR 91337      ballen@wright-nelson.com  62                8093                 6776           919655                    55062                  370276                       70806           132810                 4534                 337194                  314   048340793           GB  LHKR41860920715484  GB32RYDF09810119235681  OTKZGBNT9C9   3503447266508505         JCB 16 digit      purchase      125.0      15.0                  BHD                243   YES\n",
       "4      Ricky Decker  85567 Smith Avenue\\nLake Deborah, MH 53437  jessica45@reed-castaneda.com  22                6363                59697           594999                    44478                  184480                      282373           361227                 3380                   2801                 2506   082479989           GB  SPXV98613458317804  GB65TXSQ91214381371229  WHYQGB0T17J   4628254695962438         JCB 16 digit      purchase      117.0       3.0                  GBP              26336   YES"
      ]
     },
     "execution_count": 8,
     "metadata": {},
     "output_type": "execute_result"
    }
   ],
   "source": [
    "df_from_sql_distributed.head()"
   ]
  },
  {
   "cell_type": "markdown",
   "id": "8b28ceb3-15df-4d7b-bac5-3aaaeddb2ce9",
   "metadata": {},
   "source": [
    "### Check Spark UI and Spark Explain"
   ]
  },
  {
   "cell_type": "code",
   "execution_count": 9,
   "id": "de60db04-c273-4679-985b-7e2ff01c89b4",
   "metadata": {
    "tags": []
   },
   "outputs": [
    {
     "name": "stdout",
     "output_type": "stream",
     "text": [
      "https://spark-trfv30j0nr2dlyrh.ml-b74f8940-b97.go01-dem.ylcu-atmi.cloudera.site\n"
     ]
    }
   ],
   "source": [
    "import os\n",
    "print(\"https://spark-\"+os.environ[\"CDSW_ENGINE_ID\"]+\".\"+os.environ[\"CDSW_DOMAIN\"])"
   ]
  },
  {
   "cell_type": "code",
   "execution_count": 10,
   "id": "ac45824d-c242-475a-94e4-9186bb120113",
   "metadata": {
    "tags": []
   },
   "outputs": [
    {
     "name": "stdout",
     "output_type": "stream",
     "text": [
      "== Physical Plan ==\n",
      "*(1) Project [monotonically_increasing_id() AS __index_level_0__#54L, name#0, address#1, email#2, age#3, credit_card_balance#4, bank_account_balance#5, mortgage_balance#6, sec_bank_account_balance#7, savings_account_balance#8, sec_savings_account_balance#9, total_est_nworth#10, primary_loan_balance#11, secondary_loan_balance#12, college_loan_balance#13, aba_routing#14, bank_country#15, account_no#16, int_account_no#17, swift11#18, credit_card_number#19, credit_card_provider#20, event_type#21, longitude#22, ... 4 more fields]\n",
      "+- *(1) ColumnarToRow\n",
      "   +- BatchScan Iceberg spark_catalog.MLOPS.BANKING_TRANSACTIONS_pauldefusco[name#0, address#1, email#2, age#3, credit_card_balance#4, bank_account_balance#5, mortgage_balance#6, sec_bank_account_balance#7, savings_account_balance#8, sec_savings_account_balance#9, total_est_nworth#10, primary_loan_balance#11, secondary_loan_balance#12, college_loan_balance#13, aba_routing#14, bank_country#15, account_no#16, int_account_no#17, swift11#18, credit_card_number#19, credit_card_provider#20, event_type#21, longitude#22, latitude#23, ... 3 more fields] spark_catalog.MLOPS.BANKING_TRANSACTIONS_pauldefusco [filters=] RuntimeFilters: []\n",
      "\n",
      "\n"
     ]
    }
   ],
   "source": [
    "df_from_sql_distributed.spark.explain()"
   ]
  },
  {
   "cell_type": "markdown",
   "id": "178d855b-e2a3-45ed-8c59-e1f82a12ed82",
   "metadata": {},
   "source": [
    "### Data Exploration"
   ]
  },
  {
   "cell_type": "code",
   "execution_count": 11,
   "id": "3bcec1ba",
   "metadata": {
    "tags": []
   },
   "outputs": [],
   "source": [
    "counts = df_from_sql_distributed[['credit_card_number','fraud']].groupby(\"fraud\").count()"
   ]
  },
  {
   "cell_type": "code",
   "execution_count": 20,
   "id": "8b192d75-3420-4832-b704-f6ba03dc8787",
   "metadata": {
    "tags": []
   },
   "outputs": [
    {
     "name": "stdout",
     "output_type": "stream",
     "text": [
      "<class 'pandas.core.frame.DataFrame'>\n"
     ]
    }
   ],
   "source": [
    "pdf = counts.to_pandas()\n",
    "print(type(pdf))"
   ]
  },
  {
   "cell_type": "code",
   "execution_count": 21,
   "id": "5dc4217e-f8fb-48ae-af7c-a116c37ea7ec",
   "metadata": {
    "tags": []
   },
   "outputs": [
    {
     "data": {
      "text/html": [
       "<div>\n",
       "<style scoped>\n",
       "    .dataframe tbody tr th:only-of-type {\n",
       "        vertical-align: middle;\n",
       "    }\n",
       "\n",
       "    .dataframe tbody tr th {\n",
       "        vertical-align: top;\n",
       "    }\n",
       "\n",
       "    .dataframe thead th {\n",
       "        text-align: right;\n",
       "    }\n",
       "</style>\n",
       "<table border=\"1\" class=\"dataframe\">\n",
       "  <thead>\n",
       "    <tr style=\"text-align: right;\">\n",
       "      <th></th>\n",
       "      <th>credit_card_number</th>\n",
       "    </tr>\n",
       "    <tr>\n",
       "      <th>fraud</th>\n",
       "      <th></th>\n",
       "    </tr>\n",
       "  </thead>\n",
       "  <tbody>\n",
       "    <tr>\n",
       "      <th>YES</th>\n",
       "      <td>8989</td>\n",
       "    </tr>\n",
       "    <tr>\n",
       "      <th>NO</th>\n",
       "      <td>1011</td>\n",
       "    </tr>\n",
       "  </tbody>\n",
       "</table>\n",
       "</div>"
      ],
      "text/plain": [
       "       credit_card_number\n",
       "fraud                    \n",
       "YES                  8989\n",
       "NO                   1011"
      ]
     },
     "execution_count": 21,
     "metadata": {},
     "output_type": "execute_result"
    }
   ],
   "source": [
    "pdf"
   ]
  },
  {
   "cell_type": "code",
   "execution_count": 25,
   "id": "e689261e-c96b-4be0-83a4-254f2e4356c2",
   "metadata": {
    "tags": []
   },
   "outputs": [
    {
     "data": {
      "text/html": [
       "<div>\n",
       "<style scoped>\n",
       "    .dataframe tbody tr th:only-of-type {\n",
       "        vertical-align: middle;\n",
       "    }\n",
       "\n",
       "    .dataframe tbody tr th {\n",
       "        vertical-align: top;\n",
       "    }\n",
       "\n",
       "    .dataframe thead th {\n",
       "        text-align: right;\n",
       "    }\n",
       "</style>\n",
       "<table border=\"1\" class=\"dataframe\">\n",
       "  <thead>\n",
       "    <tr style=\"text-align: right;\">\n",
       "      <th></th>\n",
       "      <th>credit_card_number</th>\n",
       "    </tr>\n",
       "    <tr>\n",
       "      <th>fraud</th>\n",
       "      <th></th>\n",
       "    </tr>\n",
       "  </thead>\n",
       "  <tbody>\n",
       "    <tr>\n",
       "      <th>YES</th>\n",
       "      <td>8989</td>\n",
       "    </tr>\n",
       "    <tr>\n",
       "      <th>NO</th>\n",
       "      <td>1011</td>\n",
       "    </tr>\n",
       "  </tbody>\n",
       "</table>\n",
       "</div>"
      ],
      "text/plain": [
       "       credit_card_number\n",
       "fraud                    \n",
       "YES                  8989\n",
       "NO                   1011"
      ]
     },
     "execution_count": 25,
     "metadata": {},
     "output_type": "execute_result"
    }
   ],
   "source": [
    "pdf.columns = pdf.columns.get_level_values(0)\n",
    "pdf.head()"
   ]
  },
  {
   "cell_type": "code",
   "execution_count": 14,
   "id": "3a3f9c18-efd1-476a-b247-368fba9f6c88",
   "metadata": {
    "tags": []
   },
   "outputs": [],
   "source": [
    "import seaborn as sns"
   ]
  },
  {
   "cell_type": "code",
   "execution_count": 31,
   "id": "026ec7a5-cb6a-4e1f-93f7-e0c78a65dd2e",
   "metadata": {
    "tags": []
   },
   "outputs": [
    {
     "data": {
      "text/html": [
       "<div>\n",
       "<style scoped>\n",
       "    .dataframe tbody tr th:only-of-type {\n",
       "        vertical-align: middle;\n",
       "    }\n",
       "\n",
       "    .dataframe tbody tr th {\n",
       "        vertical-align: top;\n",
       "    }\n",
       "\n",
       "    .dataframe thead th {\n",
       "        text-align: right;\n",
       "    }\n",
       "</style>\n",
       "<table border=\"1\" class=\"dataframe\">\n",
       "  <thead>\n",
       "    <tr style=\"text-align: right;\">\n",
       "      <th>fraud</th>\n",
       "      <th>YES</th>\n",
       "      <th>NO</th>\n",
       "    </tr>\n",
       "  </thead>\n",
       "  <tbody>\n",
       "    <tr>\n",
       "      <th>credit_card_number</th>\n",
       "      <td>8989</td>\n",
       "      <td>1011</td>\n",
       "    </tr>\n",
       "  </tbody>\n",
       "</table>\n",
       "</div>"
      ],
      "text/plain": [
       "fraud                YES    NO\n",
       "credit_card_number  8989  1011"
      ]
     },
     "execution_count": 31,
     "metadata": {},
     "output_type": "execute_result"
    }
   ],
   "source": [
    "pdf.T"
   ]
  },
  {
   "cell_type": "code",
   "execution_count": 30,
   "id": "c4e9f7dc-cbbd-4979-9637-5c78bc7fbac0",
   "metadata": {
    "tags": []
   },
   "outputs": [
    {
     "data": {
      "text/plain": [
       "<Axes: xlabel='fraud', ylabel='count'>"
      ]
     },
     "execution_count": 30,
     "metadata": {},
     "output_type": "execute_result"
    },
    {
     "data": {
      "image/png": "[encoded data removed]",
      "text/plain": [
       "<Figure size 432x288 with 1 Axes>"
      ]
     },
     "metadata": {
      "needs_background": "light"
     },
     "output_type": "display_data"
    }
   ],
   "source": [
    "sns.countplot(pdf.T)"
   ]
  },
  {
   "cell_type": "code",
   "execution_count": null,
   "id": "94c9930e-fb6c-4193-9830-3eef5816f19c",
   "metadata": {},
   "outputs": [],
   "source": []
  },
  {
   "cell_type": "markdown",
   "id": "6334b271-88bc-4a2b-b6bb-89c5aa6e4b31",
   "metadata": {},
   "source": [
    "### Track Iceberg Metadata"
   ]
  },
  {
   "cell_type": "code",
   "execution_count": null,
   "id": "7e4bd879-31c5-405e-9dc9-ae551a591561",
   "metadata": {},
   "outputs": [],
   "source": []
  }
 ],
 "metadata": {
  "kernelspec": {
   "display_name": "Python 3 (ipykernel)",
   "language": "python",
   "name": "python3"
  },
  "language_info": {
   "codemirror_mode": {
    "name": "ipython",
    "version": 3
   },
   "file_extension": ".py",
   "mimetype": "text/x-python",
   "name": "python",
   "nbconvert_exporter": "python",
   "pygments_lexer": "ipython3",
   "version": "3.9.16"
  }
 },
 "nbformat": 4,
 "nbformat_minor": 5
}
