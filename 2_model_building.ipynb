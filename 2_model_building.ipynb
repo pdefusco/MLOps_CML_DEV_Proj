{
 "cells": [
  {
   "cell_type": "code",
   "execution_count": 13,
   "id": "ae7b21eb-a705-4df1-80ca-bbe04653be9a",
   "metadata": {
    "tags": []
   },
   "outputs": [],
   "source": [
    "#****************************************************************************\n",
    "# (C) Cloudera, Inc. 2020-2023\n",
    "#  All rights reserved.\n",
    "#\n",
    "#  Applicable Open Source License: GNU Affero General Public License v3.0\n",
    "#\n",
    "#  NOTE: Cloudera open source products are modular software products\n",
    "#  made up of hundreds of individual components, each of which was\n",
    "#  individually copyrighted.  Each Cloudera open source product is a\n",
    "#  collective work under U.S. Copyright Law. Your license to use the\n",
    "#  collective work is as provided in your written agreement with\n",
    "#  Cloudera.  Used apart from the collective work, this file is\n",
    "#  licensed for your use pursuant to the open source license\n",
    "#  identified above.\n",
    "#\n",
    "#  This code is provided to you pursuant a written agreement with\n",
    "#  (i) Cloudera, Inc. or (ii) a third-party authorized to distribute\n",
    "#  this code. If you do not have a written agreement with Cloudera nor\n",
    "#  with an authorized and properly licensed third party, you do not\n",
    "#  have any rights to access nor to use this code.\n",
    "#\n",
    "#  Absent a written agreement with Cloudera, Inc. (“Cloudera”) to the\n",
    "#  contrary, A) CLOUDERA PROVIDES THIS CODE TO YOU WITHOUT WARRANTIES OF ANY\n",
    "#  KIND; (B) CLOUDERA DISCLAIMS ANY AND ALL EXPRESS AND IMPLIED\n",
    "#  WARRANTIES WITH RESPECT TO THIS CODE, INCLUDING BUT NOT LIMITED TO\n",
    "#  IMPLIED WARRANTIES OF TITLE, NON-INFRINGEMENT, MERCHANTABILITY AND\n",
    "#  FITNESS FOR A PARTICULAR PURPOSE; (C) CLOUDERA IS NOT LIABLE TO YOU,\n",
    "#  AND WILL NOT DEFEND, INDEMNIFY, NOR HOLD YOU HARMLESS FOR ANY CLAIMS\n",
    "#  ARISING FROM OR RELATED TO THE CODE; AND (D)WITH RESPECT TO YOUR EXERCISE\n",
    "#  OF ANY RIGHTS GRANTED TO YOU FOR THE CODE, CLOUDERA IS NOT LIABLE FOR ANY\n",
    "#  DIRECT, INDIRECT, INCIDENTAL, SPECIAL, EXEMPLARY, PUNITIVE OR\n",
    "#  CONSEQUENTIAL DAMAGES INCLUDING, BUT NOT LIMITED TO, DAMAGES\n",
    "#  RELATED TO LOST REVENUE, LOST PROFITS, LOSS OF INCOME, LOSS OF\n",
    "#  BUSINESS ADVANTAGE OR UNAVAILABILITY, OR LOSS OR CORRUPTION OF\n",
    "#  DATA.\n",
    "#\n",
    "# #  Author(s): Paul de Fusco\n",
    "#***************************************************************************/"
   ]
  },
  {
   "cell_type": "code",
   "execution_count": 14,
   "id": "c949f669-1a6b-4708-85f9-212ef0a109f4",
   "metadata": {
    "tags": []
   },
   "outputs": [],
   "source": [
    "import mlflow.spark"
   ]
  },
  {
   "cell_type": "code",
   "execution_count": 15,
   "id": "d3d8e9e1-2318-4bd9-b0d9-f4ec971b4ce6",
   "metadata": {
    "tags": []
   },
   "outputs": [],
   "source": [
    "import os, warnings, sys\n",
    "import mlflow\n",
    "import pandas as pd\n",
    "import numpy as np"
   ]
  },
  {
   "cell_type": "code",
   "execution_count": 16,
   "id": "b66ebe82-f6c5-4518-a6b2-9962a812833c",
   "metadata": {
    "tags": []
   },
   "outputs": [],
   "source": [
    "import logging, json, shutil, datetime\n",
    "from pyspark.sql import SparkSession\n",
    "from pyspark.context import SparkContext\n",
    "from pyspark.ml import Pipeline\n",
    "from pyspark.ml.classification import LogisticRegression\n",
    "from pyspark.ml.feature import VectorAssembler, StandardScaler, Imputer, StringIndexer\n",
    "from pyspark.ml.evaluation import MulticlassClassificationEvaluator\n",
    "from pyspark.ml import Pipeline\n",
    "from pyspark.ml.linalg import DenseVector\n",
    "from pyspark.ml.tuning import CrossValidator, ParamGridBuilder"
   ]
  },
  {
   "cell_type": "code",
   "execution_count": 17,
   "id": "5c783622-575a-4ecb-aed5-d36d90f7d9af",
   "metadata": {
    "tags": []
   },
   "outputs": [],
   "source": [
    "import cml.data_v1 as cmldata\n",
    "\n",
    "# Sample in-code customization of spark configurations\n",
    "from pyspark import SparkContext\n",
    "SparkContext.setSystemProperty('spark.executor.cores', '2')\n",
    "SparkContext.setSystemProperty('spark.executor.memory', '2g')\n",
    "\n",
    "CONNECTION_NAME = \"go01-aw-dl\"\n",
    "conn = cmldata.get_connection(CONNECTION_NAME)\n",
    "spark = conn.get_spark_session()"
   ]
  },
  {
   "cell_type": "code",
   "execution_count": 18,
   "id": "661d0383-7f9e-4cfd-bfd4-d82869b54e1e",
   "metadata": {
    "tags": []
   },
   "outputs": [
    {
     "name": "stdout",
     "output_type": "stream",
     "text": [
      "https://spark-agpmcetj3l9lz1qq.ml-b74f8940-b97.go01-dem.ylcu-atmi.cloudera.site\n"
     ]
    }
   ],
   "source": [
    "import os\n",
    "print(\"https://spark-\"+os.environ[\"CDSW_ENGINE_ID\"]+\".\"+os.environ[\"CDSW_DOMAIN\"])"
   ]
  },
  {
   "cell_type": "code",
   "execution_count": 19,
   "id": "1aeb7cd2-a235-4d00-a817-dae186598341",
   "metadata": {
    "tags": []
   },
   "outputs": [],
   "source": [
    "username = os.environ[\"PROJECT_OWNER\"]\n",
    "dbname = \"MLOPS\""
   ]
  },
  {
   "cell_type": "code",
   "execution_count": 20,
   "id": "a56ab0aa-3ae4-4b37-8bbf-1fb8147d7838",
   "metadata": {
    "tags": []
   },
   "outputs": [],
   "source": [
    "bankingDf = spark.sql(\"SELECT * FROM {0}.BANKING_TRANSACTIONS_{1}\".format(dbname, username))"
   ]
  },
  {
   "cell_type": "code",
   "execution_count": 21,
   "id": "0d76f5e7-3c9f-4d42-a688-10d8e51369c3",
   "metadata": {
    "tags": []
   },
   "outputs": [
    {
     "name": "stdout",
     "output_type": "stream",
     "text": [
      "root\n",
      " |-- name: string (nullable = true)\n",
      " |-- address: string (nullable = true)\n",
      " |-- email: string (nullable = true)\n",
      " |-- age: decimal(10,0) (nullable = true)\n",
      " |-- credit_card_balance: decimal(10,0) (nullable = true)\n",
      " |-- bank_account_balance: decimal(10,0) (nullable = true)\n",
      " |-- mortgage_balance: decimal(10,0) (nullable = true)\n",
      " |-- sec_bank_account_balance: decimal(10,0) (nullable = true)\n",
      " |-- savings_account_balance: decimal(10,0) (nullable = true)\n",
      " |-- sec_savings_account_balance: decimal(10,0) (nullable = true)\n",
      " |-- total_est_nworth: decimal(10,0) (nullable = true)\n",
      " |-- primary_loan_balance: decimal(10,0) (nullable = true)\n",
      " |-- secondary_loan_balance: decimal(10,0) (nullable = true)\n",
      " |-- college_loan_balance: decimal(10,0) (nullable = true)\n",
      " |-- aba_routing: string (nullable = true)\n",
      " |-- bank_country: string (nullable = true)\n",
      " |-- account_no: string (nullable = true)\n",
      " |-- int_account_no: string (nullable = true)\n",
      " |-- swift11: string (nullable = true)\n",
      " |-- credit_card_number: string (nullable = true)\n",
      " |-- credit_card_provider: string (nullable = true)\n",
      " |-- event_type: string (nullable = true)\n",
      " |-- longitude: float (nullable = true)\n",
      " |-- latitude: float (nullable = true)\n",
      " |-- transaction_currency: string (nullable = true)\n",
      " |-- transaction_amount: decimal(10,0) (nullable = true)\n",
      " |-- fraud: string (nullable = true)\n",
      "\n"
     ]
    }
   ],
   "source": [
    "bankingDf.printSchema()"
   ]
  },
  {
   "cell_type": "code",
   "execution_count": 22,
   "id": "2f5018e0-ddbb-49cf-9c8d-bc55c2e6a2c7",
   "metadata": {
    "tags": []
   },
   "outputs": [],
   "source": [
    "features = [\"age\", \n",
    "            \"credit_card_balance\", \n",
    "            \"bank_account_balance\", \n",
    "            \"mortgage_balance\", \n",
    "            \"primary_loan_balance\",\n",
    "            \"sec_bank_account_balance\", \n",
    "            \"savings_account_balance\", \n",
    "            \"sec_savings_account_balance\",\n",
    "            \"secondary_loan_balance\",\n",
    "            \"total_est_nworth\", \n",
    "            \"college_loan_balance\", \n",
    "            \"transaction_amount\", \n",
    "            \"latitude\", \n",
    "            \"longitude\",\n",
    "            \"fraud\"\n",
    "        ]"
   ]
  },
  {
   "cell_type": "code",
   "execution_count": 23,
   "id": "947a296c-d3ba-43c2-bd77-4789c4d01997",
   "metadata": {
    "tags": []
   },
   "outputs": [],
   "source": [
    "bankingDf = bankingDf[features]"
   ]
  },
  {
   "cell_type": "code",
   "execution_count": 24,
   "id": "f2226072-63c1-4465-b133-9a9b9a445cf3",
   "metadata": {
    "tags": []
   },
   "outputs": [],
   "source": [
    "def defineColTypes(df):\n",
    "    \"\"\"\n",
    "    Method to assign df columns into two lists based on type\n",
    "    Types are either string or not string\n",
    "    Input: Spark DF\n",
    "    Output: Lists by Column Type\n",
    "    \"\"\"\n",
    "\n",
    "    numeric = []\n",
    "    cat = []\n",
    "\n",
    "    for col in bankingDf.dtypes:\n",
    "        if col[1] == \"string\":\n",
    "            cat.append(col[0])\n",
    "        else:\n",
    "            numeric.append(col[0])\n",
    "    return numeric, cat"
   ]
  },
  {
   "cell_type": "code",
   "execution_count": 25,
   "id": "57098b2d-79cc-424f-bcc0-5457bc65fddc",
   "metadata": {
    "tags": []
   },
   "outputs": [],
   "source": [
    "numeric, cat = defineColTypes(bankingDf)"
   ]
  },
  {
   "cell_type": "code",
   "execution_count": 26,
   "id": "70d9d8c7-331c-4f9f-9e38-f5010f244977",
   "metadata": {
    "tags": []
   },
   "outputs": [],
   "source": [
    "def convertToFloat(df, num):\n",
    "    \"\"\"\n",
    "    Method to convert Spark DF columns to float\n",
    "    Does not require input DF columns to be of numeric type only\n",
    "    Requires input list of numerical columns\n",
    "    Outputs df with columns in Float format\n",
    "    \"\"\"\n",
    "\n",
    "    for c in df[numeric].columns:\n",
    "        df = df.withColumn(c, df[c].cast(\"float\"))\n",
    "\n",
    "    return df"
   ]
  },
  {
   "cell_type": "code",
   "execution_count": 27,
   "id": "a15dee10-cc7f-4f18-8ff7-f1dcd125b358",
   "metadata": {
    "tags": []
   },
   "outputs": [
    {
     "name": "stdout",
     "output_type": "stream",
     "text": [
      "root\n",
      " |-- age: float (nullable = true)\n",
      " |-- credit_card_balance: float (nullable = true)\n",
      " |-- bank_account_balance: float (nullable = true)\n",
      " |-- mortgage_balance: float (nullable = true)\n",
      " |-- primary_loan_balance: float (nullable = true)\n",
      " |-- sec_bank_account_balance: float (nullable = true)\n",
      " |-- savings_account_balance: float (nullable = true)\n",
      " |-- sec_savings_account_balance: float (nullable = true)\n",
      " |-- secondary_loan_balance: float (nullable = true)\n",
      " |-- total_est_nworth: float (nullable = true)\n",
      " |-- college_loan_balance: float (nullable = true)\n",
      " |-- transaction_amount: float (nullable = true)\n",
      " |-- latitude: float (nullable = true)\n",
      " |-- longitude: float (nullable = true)\n",
      " |-- fraud: string (nullable = true)\n",
      "\n"
     ]
    }
   ],
   "source": [
    "bankingDf = convertToFloat(bankingDf, numeric)\n",
    "bankingDf.printSchema()"
   ]
  },
  {
   "cell_type": "code",
   "execution_count": 28,
   "id": "27c8f72d-f8d5-486b-a305-6e416a1066ce",
   "metadata": {
    "tags": []
   },
   "outputs": [],
   "source": [
    "def labelEncoder(df, labelCol):\n",
    "    \"\"\"\n",
    "    Method to transform dataframe label from categorical to numerical column type\n",
    "    \"\"\"\n",
    "    indexer = StringIndexer(inputCol=labelCol, outputCol=\"label\")\n",
    "    df = indexer.fit(df).transform(df)\n",
    "    df = df.drop(labelCol)\n",
    "    return df"
   ]
  },
  {
   "cell_type": "code",
   "execution_count": null,
   "id": "e0e54d60-04b4-4b7f-a111-24f2c8bc8150",
   "metadata": {
    "tags": []
   },
   "outputs": [
    {
     "name": "stderr",
     "output_type": "stream",
     "text": [
      "[Stage 0:>                                                          (0 + 1) / 1]\r"
     ]
    }
   ],
   "source": [
    "bankingDf = labelEncoder(bankingDf, \"fraud\")\n",
    "bankingDf.printSchema()"
   ]
  },
  {
   "cell_type": "code",
   "execution_count": null,
   "id": "cf473ff9-6a9f-4111-a613-c218cd1433ae",
   "metadata": {
    "tags": []
   },
   "outputs": [],
   "source": [
    "def trainTestSplit(df, trainPercentage):\n",
    "    \"\"\"\n",
    "    Method to split data into train and test sets\n",
    "    Requires inputs: DF to split; percentage of train set\n",
    "    Returns train and test sets as spark df's\n",
    "    \"\"\"\n",
    "    testPercentage = 1 - trainPercentage  \n",
    "    \n",
    "    train, test = df.randomSplit(weights=[trainPercentage,testPercentage], seed=200)\n",
    "\n",
    "    return train, test"
   ]
  },
  {
   "cell_type": "code",
   "execution_count": null,
   "id": "b1af4202-c9bb-4bbc-9564-2adcf6bbcff5",
   "metadata": {
    "tags": []
   },
   "outputs": [],
   "source": [
    "train, test = trainTestSplit(bankingDf, 0.8)"
   ]
  },
  {
   "cell_type": "code",
   "execution_count": null,
   "id": "b9e73341-ba4c-46d4-ba31-6af9da8e9d56",
   "metadata": {
    "tags": []
   },
   "outputs": [],
   "source": [
    "def makeCv(df, cols):\n",
    "    \"\"\"\n",
    "    Method to create Spark Mllib Pipeline Object\n",
    "    Pipeline: VectorAssembler, StandardScaler, LogisticRegression\n",
    "    Returns pipeline object\n",
    "    \"\"\"\n",
    "\n",
    "    stages = []\n",
    "    \n",
    "    #Assembling mixed data type transformations:\n",
    "    assembler = VectorAssembler(inputCols=cols, outputCol=\"features\")\n",
    "    stages += [assembler]    \n",
    "\n",
    "    #Scaling features\n",
    "    scaler = StandardScaler(inputCol=\"features\", outputCol=\"scaledFeatures\", withStd=True, withMean=True)\n",
    "    stages += [scaler]\n",
    "\n",
    "    #Logistic Regression\n",
    "    lr = LogisticRegression(featuresCol='scaledFeatures', labelCol='label')\n",
    "    stages += [lr]\n",
    "\n",
    "    #Creating and running the pipeline:\n",
    "    pipeline = Pipeline(stages=stages)\n",
    "    \n",
    "    #Creating Evaluator \n",
    "    evaluator = MulticlassClassificationEvaluator(labelCol=\"label\", metricName=\"accuracy\")\n",
    "    \n",
    "    # Define the parameter grid to examine.\n",
    "    grid = ParamGridBuilder() \\\n",
    "      .addGrid(lr.maxIter, [2, 4, 6, 8, 10]) \\\n",
    "      .addGrid(lr.regParam, [0.1, 0.4, 0.7]) \\\n",
    "      .addGrid(lr.elasticNetParam, [0.2, 0.4, 0.6, 0.8]) \\\n",
    "      .build()\n",
    "    \n",
    "    cv = CrossValidator(estimator=pipeline, evaluator=evaluator, estimatorParamMaps=grid, numFolds=3)\n",
    "\n",
    "    return cv"
   ]
  },
  {
   "cell_type": "code",
   "execution_count": null,
   "id": "981b0c78-517f-40a5-9d5b-55f5f6f5df2e",
   "metadata": {
    "tags": []
   },
   "outputs": [],
   "source": [
    "features = [feature for feature in train.columns if feature != \"label\"]"
   ]
  },
  {
   "cell_type": "code",
   "execution_count": null,
   "id": "8c78195f-5d1f-4679-989a-23a848d0c89c",
   "metadata": {
    "tags": []
   },
   "outputs": [],
   "source": [
    "cv = makeCv(train, features)"
   ]
  },
  {
   "cell_type": "code",
   "execution_count": null,
   "id": "e47c56c3-20f6-4527-aee2-c0e40746aaa5",
   "metadata": {
    "tags": []
   },
   "outputs": [],
   "source": [
    "import mlflow.spark\n",
    "\n",
    "mlflow.set_experiment('MySparkMlClf')\n",
    "\n",
    "with mlflow.start_run():\n",
    "    \n",
    "    train.writeTo(\"spark_catalog.{0}.BANKING_TRANSACTIONS_TRAIN_{1}\".format(dbname, username)).using(\"iceberg\").createOrReplace()\n",
    "    test.writeTo(\"spark_catalog.{0}.BANKING_TRANSACTIONS_TEST_{1}\".format(dbname, username)).using(\"iceberg\").createOrReplace()\n",
    "\n",
    "    ### SHOW TABLE HISTORY AND SNAPSHOTS\n",
    "    #spark.read.format(\"iceberg\").load(\"spark_catalog.{0}.BANKING_TRANSACTIONS_TRAIN_{1}.history\".format(dbname, username)).show(20, False)\n",
    "    #spark.read.format(\"iceberg\").load(\"spark_catalog.{0}.BANKING_TRANSACTIONS_TRAIN_{1}.snapshots\".format(dbname, username)).show(20, False)\n",
    "\n",
    "    train_snapshot_id = spark.read.format(\"iceberg\").load(\"spark_catalog.{0}.BANKING_TRANSACTIONS_TRAIN_{1}.snapshots\".format(dbname, username)).tail(1)[0][0]\n",
    "    train_committed_at = spark.read.format(\"iceberg\").load(\"spark_catalog.{0}.BANKING_TRANSACTIONS_TRAIN_{1}.snapshots\".format(dbname, username)).select(\"committed_at\").tail(1)[0][0].strftime('%m/%d/%Y')\n",
    "    train_parent_id = spark.read.format(\"iceberg\").load(\"spark_catalog.{0}.BANKING_TRANSACTIONS_TRAIN_{1}.snapshots\".format(dbname, username)).select(\"parent_id\").tail(1)[0][0]\n",
    "    test_snapshot_id = spark.read.format(\"iceberg\").load(\"spark_catalog.{0}.BANKING_TRANSACTIONS_TEST_{1}.snapshots\".format(dbname, username)).tail(1)[0][0]\n",
    "    test_committed_at = spark.read.format(\"iceberg\").load(\"spark_catalog.{0}.BANKING_TRANSACTIONS_TEST_{1}.snapshots\".format(dbname, username)).select(\"committed_at\").tail(1)[0][0].strftime('%m/%d/%Y')\n",
    "    test_parent_id = spark.read.format(\"iceberg\").load(\"spark_catalog.{0}.BANKING_TRANSACTIONS_TEST_{1}.snapshots\".format(dbname, username)).select(\"parent_id\").tail(1)[0][0]\n",
    "    \n",
    "    tags = {\n",
    "      \"train_iceberg_snapshot_id\": train_snapshot_id,\n",
    "      \"train_iceberg_snapshot_committed_at\": train_committed_at,\n",
    "      \"train_iceberg_parent_id\": train_parent_id,\n",
    "      \"train_row_count\": train.count(),\n",
    "      \"test_iceberg_snapshot_id\": test_snapshot_id,\n",
    "      \"test_iceberg_snapshot_committed_at\": test_committed_at,\n",
    "      \"test_iceberg_parent_id\": test_parent_id,\n",
    "      \"test_row_count\": test.count()\n",
    "    }\n",
    "    \n",
    "    # Run the cross validation on the training dataset. The cv.fit() call returns the best model it found.\n",
    "    cvModel = cv.fit(train)\n",
    "    evaluator = MulticlassClassificationEvaluator(labelCol=\"label\", metricName=\"accuracy\")\n",
    "    \n",
    "    # Evaluate the best model's performance on the test dataset and log the result.\n",
    "    test_metric = evaluator.evaluate(cvModel.transform(test))\n",
    "    mlflow.log_metric('test_' + evaluator.getMetricName(), test_metric) \n",
    "\n",
    "    # Log the best model.\n",
    "    mlflow.spark.log_model(spark_model=cvModel.bestModel, artifact_path='best-model') \n",
    "    mlflow.set_tags(tags)\n",
    "    mlflow.end_run()"
   ]
  },
  {
   "cell_type": "code",
   "execution_count": null,
   "id": "131d2374-08a5-4f1b-b6ad-bd1cc8c3cd28",
   "metadata": {
    "tags": []
   },
   "outputs": [],
   "source": [
    "#mlflow.end_run()"
   ]
  },
  {
   "cell_type": "code",
   "execution_count": null,
   "id": "51325034-dc14-4168-9e77-2333837e7875",
   "metadata": {},
   "outputs": [],
   "source": []
  }
 ],
 "metadata": {
  "kernelspec": {
   "display_name": "Python 3 (ipykernel)",
   "language": "python",
   "name": "python3"
  },
  "language_info": {
   "codemirror_mode": {
    "name": "ipython",
    "version": 3
   },
   "file_extension": ".py",
   "mimetype": "text/x-python",
   "name": "python",
   "nbconvert_exporter": "python",
   "pygments_lexer": "ipython3",
   "version": "3.9.16"
  }
 },
 "nbformat": 4,
 "nbformat_minor": 5
}
